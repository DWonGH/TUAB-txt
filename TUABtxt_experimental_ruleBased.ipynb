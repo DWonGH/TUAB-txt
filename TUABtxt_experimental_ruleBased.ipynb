{
  "nbformat": 4,
  "nbformat_minor": 0,
  "metadata": {
    "colab": {
      "name": "TUABtxt experimental_ruleBased.ipynb",
      "provenance": [],
      "collapsed_sections": [],
      "toc_visible": true
    },
    "kernelspec": {
      "display_name": "Python 3",
      "name": "python3"
    }
  },
  "cells": [
    {
      "cell_type": "markdown",
      "metadata": {
        "id": "sZfSvVcDo6GQ"
      },
      "source": [
        "# Load text"
      ]
    },
    {
      "cell_type": "markdown",
      "metadata": {
        "id": "dwlfPb11GH8J"
      },
      "source": [
        "This notebook demonstrates the classification of EEG text reports from the Temple University Hospital EEG Corpus. The basic code structure is based on Example 1 in [this demo](https://www.tensorflow.org/tutorials/load_data/text).\n",
        "\n",
        "First, let's install and import some useful libraries."
      ]
    },
    {
      "cell_type": "code",
      "metadata": {
        "id": "sa6IKWvADqH7",
        "colab": {
          "base_uri": "https://localhost:8080/"
        },
        "outputId": "eafc3034-335f-4af5-ec4f-e62cdb8b4ced"
      },
      "source": [
        "# Be sure you're using the stable versions of both tf and tf-text, for binary compatibility.\n",
        "!pip install -q -U tensorflow\n",
        "!pip install -q -U tensorflow-text"
      ],
      "execution_count": null,
      "outputs": [
        {
          "output_type": "stream",
          "text": [
            "\u001b[K     |████████████████████████████████| 4.3MB 26.0MB/s \n",
            "\u001b[?25h"
          ],
          "name": "stdout"
        }
      ]
    },
    {
      "cell_type": "code",
      "metadata": {
        "id": "baYFZMW_bJHh"
      },
      "source": [
        "import collections\n",
        "import pathlib\n",
        "import re\n",
        "import string\n",
        "\n",
        "import tensorflow as tf\n",
        "\n",
        "from tensorflow.keras import layers\n",
        "from tensorflow.keras import losses\n",
        "from tensorflow.keras import preprocessing\n",
        "from tensorflow.keras import utils\n",
        "from tensorflow.keras.layers.experimental.preprocessing import TextVectorization\n",
        "\n",
        "import tensorflow_datasets as tfds\n",
        "import tensorflow_text as tf_text"
      ],
      "execution_count": null,
      "outputs": []
    },
    {
      "cell_type": "markdown",
      "metadata": {
        "id": "tjC3yLa5IjP7"
      },
      "source": [
        "# Download and explore the dataset\n",
        "\n",
        "First we'll use a handy tool called `gdown` to download the dataset (just the text reports) from where your team have stored them on Google Drive."
      ]
    },
    {
      "cell_type": "code",
      "metadata": {
        "colab": {
          "base_uri": "https://localhost:8080/"
        },
        "id": "yOkBFWym_Ted",
        "outputId": "e14d9223-62b7-422f-c5a6-98fd75a50205"
      },
      "source": [
        "!gdown --id 1C1ViakYhUU39AyIJhBxDIZ5M1eVVdbwa"
      ],
      "execution_count": null,
      "outputs": [
        {
          "output_type": "stream",
          "text": [
            "Downloading...\n",
            "From: https://drive.google.com/uc?id=1C1ViakYhUU39AyIJhBxDIZ5M1eVVdbwa\n",
            "To: /content/TUABtxt.tar\n",
            "9.30MB [00:00, 56.6MB/s]\n"
          ],
          "name": "stdout"
        }
      ]
    },
    {
      "cell_type": "markdown",
      "metadata": {
        "id": "-9AqWm9N6fQ4"
      },
      "source": [
        "The dataset is compressed inside the archive file TUABtxt.tar, so let's extract it (like unzipping a zip file)."
      ]
    },
    {
      "cell_type": "code",
      "metadata": {
        "id": "g58H2ZGZBG1R"
      },
      "source": [
        "import tarfile\n",
        "tar = tarfile.open(\"TUABtxt.tar\")\n",
        "tar.extractall()\n",
        "tar.close()"
      ],
      "execution_count": null,
      "outputs": []
    },
    {
      "cell_type": "markdown",
      "metadata": {
        "id": "PsaNjolR6qpU"
      },
      "source": [
        "Now we've extracted a folder called TUABtxt. Let's use pathlib library to explore this directory."
      ]
    },
    {
      "cell_type": "code",
      "metadata": {
        "id": "MKBIa3GkCPd1",
        "colab": {
          "base_uri": "https://localhost:8080/"
        },
        "outputId": "e3bdca82-04e5-4979-d584-1344d976e79f"
      },
      "source": [
        "dataset_dir = pathlib.Path('TUABtxt')\n",
        "list(dataset_dir.iterdir())"
      ],
      "execution_count": null,
      "outputs": [
        {
          "output_type": "execute_result",
          "data": {
            "text/plain": [
              "[PosixPath('TUABtxt/abnormal'), PosixPath('TUABtxt/normal')]"
            ]
          },
          "metadata": {
            "tags": []
          },
          "execution_count": 5
        }
      ]
    },
    {
      "cell_type": "markdown",
      "metadata": {
        "id": "DQabHmde6t-3"
      },
      "source": [
        "The output above should show that we have a 'normal' and 'abnormal' subfolder. Let's see what's inside the 'abnormal' subfolder."
      ]
    },
    {
      "cell_type": "code",
      "metadata": {
        "id": "fEoV7YByJoWQ",
        "colab": {
          "base_uri": "https://localhost:8080/"
        },
        "outputId": "7cdca69c-fce2-4132-d662-aed9c8204126"
      },
      "source": [
        "abnormal_dir = dataset_dir/'abnormal'\n",
        "list(abnormal_dir.iterdir())"
      ],
      "execution_count": null,
      "outputs": [
        {
          "output_type": "execute_result",
          "data": {
            "text/plain": [
              "[PosixPath('TUABtxt/abnormal/051'),\n",
              " PosixPath('TUABtxt/abnormal/027'),\n",
              " PosixPath('TUABtxt/abnormal/000'),\n",
              " PosixPath('TUABtxt/abnormal/032'),\n",
              " PosixPath('TUABtxt/abnormal/086'),\n",
              " PosixPath('TUABtxt/abnormal/062'),\n",
              " PosixPath('TUABtxt/abnormal/006'),\n",
              " PosixPath('TUABtxt/abnormal/021'),\n",
              " PosixPath('TUABtxt/abnormal/064'),\n",
              " PosixPath('TUABtxt/abnormal/106'),\n",
              " PosixPath('TUABtxt/abnormal/050'),\n",
              " PosixPath('TUABtxt/abnormal/020'),\n",
              " PosixPath('TUABtxt/abnormal/028'),\n",
              " PosixPath('TUABtxt/abnormal/045'),\n",
              " PosixPath('TUABtxt/abnormal/025'),\n",
              " PosixPath('TUABtxt/abnormal/080'),\n",
              " PosixPath('TUABtxt/abnormal/007'),\n",
              " PosixPath('TUABtxt/abnormal/005'),\n",
              " PosixPath('TUABtxt/abnormal/044'),\n",
              " PosixPath('TUABtxt/abnormal/094'),\n",
              " PosixPath('TUABtxt/abnormal/078'),\n",
              " PosixPath('TUABtxt/abnormal/096'),\n",
              " PosixPath('TUABtxt/abnormal/010'),\n",
              " PosixPath('TUABtxt/abnormal/049'),\n",
              " PosixPath('TUABtxt/abnormal/076'),\n",
              " PosixPath('TUABtxt/abnormal/108'),\n",
              " PosixPath('TUABtxt/abnormal/030'),\n",
              " PosixPath('TUABtxt/abnormal/068'),\n",
              " PosixPath('TUABtxt/abnormal/099'),\n",
              " PosixPath('TUABtxt/abnormal/042'),\n",
              " PosixPath('TUABtxt/abnormal/002'),\n",
              " PosixPath('TUABtxt/abnormal/098'),\n",
              " PosixPath('TUABtxt/abnormal/073'),\n",
              " PosixPath('TUABtxt/abnormal/024'),\n",
              " PosixPath('TUABtxt/abnormal/012'),\n",
              " PosixPath('TUABtxt/abnormal/092'),\n",
              " PosixPath('TUABtxt/abnormal/008'),\n",
              " PosixPath('TUABtxt/abnormal/079'),\n",
              " PosixPath('TUABtxt/abnormal/081'),\n",
              " PosixPath('TUABtxt/abnormal/047'),\n",
              " PosixPath('TUABtxt/abnormal/084'),\n",
              " PosixPath('TUABtxt/abnormal/046'),\n",
              " PosixPath('TUABtxt/abnormal/107'),\n",
              " PosixPath('TUABtxt/abnormal/041'),\n",
              " PosixPath('TUABtxt/abnormal/082'),\n",
              " PosixPath('TUABtxt/abnormal/085'),\n",
              " PosixPath('TUABtxt/abnormal/090'),\n",
              " PosixPath('TUABtxt/abnormal/059'),\n",
              " PosixPath('TUABtxt/abnormal/022'),\n",
              " PosixPath('TUABtxt/abnormal/014'),\n",
              " PosixPath('TUABtxt/abnormal/093'),\n",
              " PosixPath('TUABtxt/abnormal/101'),\n",
              " PosixPath('TUABtxt/abnormal/104'),\n",
              " PosixPath('TUABtxt/abnormal/018'),\n",
              " PosixPath('TUABtxt/abnormal/088'),\n",
              " PosixPath('TUABtxt/abnormal/087'),\n",
              " PosixPath('TUABtxt/abnormal/070'),\n",
              " PosixPath('TUABtxt/abnormal/036'),\n",
              " PosixPath('TUABtxt/abnormal/074'),\n",
              " PosixPath('TUABtxt/abnormal/083'),\n",
              " PosixPath('TUABtxt/abnormal/061'),\n",
              " PosixPath('TUABtxt/abnormal/015'),\n",
              " PosixPath('TUABtxt/abnormal/071'),\n",
              " PosixPath('TUABtxt/abnormal/039'),\n",
              " PosixPath('TUABtxt/abnormal/017'),\n",
              " PosixPath('TUABtxt/abnormal/037'),\n",
              " PosixPath('TUABtxt/abnormal/033'),\n",
              " PosixPath('TUABtxt/abnormal/060'),\n",
              " PosixPath('TUABtxt/abnormal/048'),\n",
              " PosixPath('TUABtxt/abnormal/031'),\n",
              " PosixPath('TUABtxt/abnormal/057'),\n",
              " PosixPath('TUABtxt/abnormal/053'),\n",
              " PosixPath('TUABtxt/abnormal/043'),\n",
              " PosixPath('TUABtxt/abnormal/095'),\n",
              " PosixPath('TUABtxt/abnormal/055'),\n",
              " PosixPath('TUABtxt/abnormal/105'),\n",
              " PosixPath('TUABtxt/abnormal/011'),\n",
              " PosixPath('TUABtxt/abnormal/067'),\n",
              " PosixPath('TUABtxt/abnormal/004'),\n",
              " PosixPath('TUABtxt/abnormal/091'),\n",
              " PosixPath('TUABtxt/abnormal/035'),\n",
              " PosixPath('TUABtxt/abnormal/040'),\n",
              " PosixPath('TUABtxt/abnormal/103'),\n",
              " PosixPath('TUABtxt/abnormal/001'),\n",
              " PosixPath('TUABtxt/abnormal/058'),\n",
              " PosixPath('TUABtxt/abnormal/003'),\n",
              " PosixPath('TUABtxt/abnormal/089'),\n",
              " PosixPath('TUABtxt/abnormal/077'),\n",
              " PosixPath('TUABtxt/abnormal/063'),\n",
              " PosixPath('TUABtxt/abnormal/069'),\n",
              " PosixPath('TUABtxt/abnormal/097'),\n",
              " PosixPath('TUABtxt/abnormal/072'),\n",
              " PosixPath('TUABtxt/abnormal/100'),\n",
              " PosixPath('TUABtxt/abnormal/075'),\n",
              " PosixPath('TUABtxt/abnormal/065'),\n",
              " PosixPath('TUABtxt/abnormal/052'),\n",
              " PosixPath('TUABtxt/abnormal/023'),\n",
              " PosixPath('TUABtxt/abnormal/029'),\n",
              " PosixPath('TUABtxt/abnormal/066'),\n",
              " PosixPath('TUABtxt/abnormal/016'),\n",
              " PosixPath('TUABtxt/abnormal/013'),\n",
              " PosixPath('TUABtxt/abnormal/038'),\n",
              " PosixPath('TUABtxt/abnormal/056'),\n",
              " PosixPath('TUABtxt/abnormal/102'),\n",
              " PosixPath('TUABtxt/abnormal/054'),\n",
              " PosixPath('TUABtxt/abnormal/009')]"
            ]
          },
          "metadata": {
            "tags": []
          },
          "execution_count": 6
        }
      ]
    },
    {
      "cell_type": "markdown",
      "metadata": {
        "id": "3mxAN17MhEh0"
      },
      "source": [
        "We see from the above output that the data is stored across many subfolders. The documentation for the TUAB set explains this folder structure. Below each of the arbitrary subfolders listed above is a further hierarchy a folders for individual subjects and recording sessions. You don't need to understand this structure in detail, because we'll use a function to automatically extract the txt data. But let's just take a look inside one of the txt files."
      ]
    },
    {
      "cell_type": "code",
      "metadata": {
        "id": "Go1vTSGdJu08",
        "colab": {
          "base_uri": "https://localhost:8080/"
        },
        "outputId": "357864ca-9373-43f5-d692-fb22e117d0b2"
      },
      "source": [
        "sample_file = abnormal_dir/'035/00003523/s003_2012_03_12/00003523_s003.txt'\n",
        "with open(sample_file) as f:\n",
        "  print(f.read())"
      ],
      "execution_count": null,
      "outputs": [
        {
          "output_type": "stream",
          "text": [
            "CLINICAL HISTORY:  54 year old right handed female with recurrent seizures, 2 in February.  Three seizures per week.  Lost her insurance and was not able to go back to the Neurology Clinic.  Past history of stroke with left-sided weakness.\n",
            "MEDICATIONS:  Topamax, Zocor, Celexa, Iron, Aggrenox, ASA, Valium\n",
            "INTRODUCTION:  Digital video EEG was performed in lab using standard 10-20 system of electrode placement with 1 channel of EKG.   Hyperventilation and photic stimulation are performed.\n",
            "DESCRIPTION OF THE RECORD:  In wakefulness, there is a 9-Hz alpha rhythm.  There is a small amount of subtle theta and a very subtle asymmetry in the left temporal region relative to the right temporal region.  Hyperventilation does not activate the record.  Features of drowsiness include anterior spread of the alpha rhythm.  Photic stimulation elicits a very subtle bilateral driving response at faster frequencies.\n",
            "HR:    90 bpm\n",
            "IMPRESSION:  Mildly abnormal for an adult of this age due to:\n",
            "Very subtle underlying slowing in the left temporal region.\n",
            "CLINICAL CORRELATION:  No epileptiform features were seen.  Epileptiform activity has not been identified for this individual since 2006.  In an adult of this age, the findings\n",
            "described above are nonspecific and can be seen in the context of underlying cerebrovascular disease or with a history of lupus cerebritis or other CNS process.\n",
            "\n",
            "\n",
            "\n",
            "\n"
          ],
          "name": "stdout"
        }
      ]
    },
    {
      "cell_type": "markdown",
      "metadata": {
        "id": "deWBTkpJiO7D"
      },
      "source": [
        "### Load the dataset\n",
        "\n",
        "Next, we will load the data off disk and prepare it into a format suitable for training. The text_dataset_from_directory utility makes this easy, and creates a tf.data.Dataset object with labels ('normal' and 'abnormal') automatically recognised from the folder structure. (tf.data is a collection of tools for building input pipelines for machine learning)."
      ]
    },
    {
      "cell_type": "code",
      "metadata": {
        "colab": {
          "base_uri": "https://localhost:8080/"
        },
        "id": "Ts9MdI-lAa-X",
        "outputId": "1b7d4e7e-bc2c-4709-ae6f-759753755aa3"
      },
      "source": [
        "full_ds = preprocessing.text_dataset_from_directory(dataset_dir, batch_size=32)"
      ],
      "execution_count": null,
      "outputs": [
        {
          "output_type": "stream",
          "text": [
            "Found 2993 files belonging to 2 classes.\n"
          ],
          "name": "stdout"
        }
      ]
    },
    {
      "cell_type": "markdown",
      "metadata": {
        "id": "Dyl6JTAjlbQV"
      },
      "source": [
        "When running a machine learning experiment, it is a best practice to divide your dataset into three splits: [train](https://developers.google.com/machine-learning/glossary#training_set), [validation](https://developers.google.com/machine-learning/glossary#validation_set), and [test](https://developers.google.com/machine-learning/glossary#test-set). There are no strict rules, but usually it's best to put most of your data in the training (so that there's plenty to learn from. A 70-15-15 percent split is fairly common, as implemented below."
      ]
    },
    {
      "cell_type": "code",
      "metadata": {
        "colab": {
          "base_uri": "https://localhost:8080/"
        },
        "id": "s96Dk4H-AfAd",
        "outputId": "50225ac3-4c00-4107-c906-2c678d80890b"
      },
      "source": [
        "# Set the size of each subset of data:\n",
        "n = len(list(full_ds)) # Number of batches in original dataset\n",
        "n_train = int(0.7*n)   # Use about 70% as training data ...\n",
        "n_val = int(0.15*n)    # ... 15% as validation data ...\n",
        "n_test = n-n_train-n_val # ... and the rest as test data.\n",
        "print(f\"We have {n} batches in the full dataset.\")\n",
        "print(f\"We'll use {n_train} batches in the training set, {n_val} in the validation set, and {n_test} in the test set.\")"
      ],
      "execution_count": null,
      "outputs": [
        {
          "output_type": "stream",
          "text": [
            "We have 94 batches in the full dataset.\n",
            "We'll use 65 batches in the training set, 14 in the validation set, and 15 in the test set.\n"
          ],
          "name": "stdout"
        }
      ]
    },
    {
      "cell_type": "markdown",
      "metadata": {
        "id": "pkJwll9lT6Ik"
      },
      "source": [
        "Now we're ready to actually make the split."
      ]
    },
    {
      "cell_type": "code",
      "metadata": {
        "id": "gkpD8UquD0kO"
      },
      "source": [
        "# Split the data into training, validation, and test sets:\n",
        "raw_train_ds = full_ds.take(n_train)\n",
        "raw_val_ds = full_ds.skip(n_train).take(n_val)\n",
        "raw_test_ds = full_ds.skip(n_train+n_val)\n",
        "\n",
        "assert(len(list(raw_test_ds))==n_test) # This assertion statement checks our code, to make sure the test dataset size is what we expect."
      ],
      "execution_count": null,
      "outputs": []
    },
    {
      "cell_type": "markdown",
      "metadata": {
        "id": "DMI_gPLfloD7"
      },
      "source": [
        "Let's print out a few examples, to get more of a feel for the data."
      ]
    },
    {
      "cell_type": "code",
      "metadata": {
        "id": "_JMTyZ6Glt_C",
        "colab": {
          "base_uri": "https://localhost:8080/"
        },
        "outputId": "d3e81320-6ce4-4936-e185-134ad20ba430"
      },
      "source": [
        "for text_batch, label_batch in raw_train_ds.take(1):   # Take a single batch from the dataset.\n",
        "  for i in range(10):                                  # Iterate through the first 10 examples in that batch.\n",
        "    print(\"Report: \", text_batch.numpy()[i])\n",
        "    print(\"Label:\", label_batch.numpy()[i])"
      ],
      "execution_count": null,
      "outputs": [
        {
          "output_type": "stream",
          "text": [
            "Report:  b'REASON FOR STUDY:  Seizures.\\nCLINICAL HISTORY:  A 48-year-old right-handed female who presents with a history of seizures as a child at age 8 to 12 and then became seizure free.  Recently with breast cancer in 2008 and started treatment in 2009 radiation and chemo.  Had a seizure during sleep with tongue biting.  Seizures are now more frequent about 4 in 1 week.\\nMEDICATIONS:  Dilantin.\\nINTRODUCTION:  A routine EEG was performed using the standard 10-20 electrode placement system with the addition of anterior temporal and single lead EKG electrode.  The patient was recorded during wakefulness and drowsiness.  Activating procedures included photic stimulation and hyperventilation.\\nTECHNICAL DIFFICULTIES:  Some muscle artifact.\\nDESCRIPTION OF THE RECORD:  The record opens to a low amplitude posterior dominant rhythm that reaches 10 Hz which appears to react to eye opening.  There is some frontocentral beta.  Activating procedures including hyperventilation and photic stimulation produced no abnormal discharges.  The patient was recorded in wakefulness and drowsiness.  Please note that there is a very prominent rhythmic mid temporal theta of drowsiness occurring multiple times through the recording.\\nAbnormal discharges: None.\\nSeizures: None.\\nIMPRESSION:  Normal awake and sleep EEG.\\nHeart rate is 114.\\nCLINICAL CORRELATION:  This is a normal awake and sleep EEG.  No seizures or epileptiform discharges were seen.  Please note the frequent prominent rhythmic mid temporal theta of drowsiness described above.\\n\\n\\n\\n'\n",
            "Label: 1\n",
            "Report:  b'CLINICAL HISTORY:  A 77-year-old male admitted for syncope.  The patient collapsed while walking to the bathroom and had PEA code for 8 minutes on April 10, now with jerking movements.\\nMEDICATIONS:  Fentanyl, imipenem.\\nINTRODUCTION:  Digital video EEG was performed at the bedside in the ICU using standard 10-20 system of electrode placement with one channel of EKG.  The patient is intubated and poorly responsive.\\nDESCRIPTION OF THE RECORD:  The initial EEG is markedly slow, low voltage and suppressed with low voltage delta and smaller amounts of theta.  There is some variability in the initial sections of the record with a bit more theta.  Spontaneous arousals were noted with an increase in higher amplitude theta frequency activity.\\nIntermittent involuntary jerking of the lower extremities was recorded without ictal change.\\nOccasional eye movements were noted without evidence of arousal.\\nOn one occasion but on a second occasion eye movements were associated with an increase in higher amplitude theta frequency activity.  During that section, involuntary jerk artifact was noted but no epileptiform features were seen.\\nHeart rate 90 bpm.\\nIMPRESSION:  This is an abnormal EEG due to:\\nMarked background slowing.\\nA low voltage pattern.\\nCLINICAL CORRELATION:  This EEG is more characteristic of a chronic than an acute encephalopathy.  In this individual with a history of severe anoxic injury, there is some variability.  The myoclonic jerks were not associated with an EEG change.  To place this EEG in the appropriate prognostic context, a bit more information about the events in January 2013 and April 2013 would be necessary.\\n\\n\\n\\n'\n",
            "Label: 0\n",
            "Report:  b'CLINICAL HISTORY:  22 year old female with a chief complaint of headaches.\\nMEDICATIONS:  Fioricet, Reglan, Doxycycline.\\nREASON FOR STUDY:  Headaches, rule out seizures.\\nINTRODUCTION:  Digital video EEG was performed in lab using standard 10-20 system of electrode placement system with one single EKG electrode.  Activation procedures was hyperventilation and photic stimulation.\\nDESCRIPTION OF THE RECORD:  Posterior dominant rhythm was observed at 9-10 Hz, was symmetric and reactive to eye opening.  The frontal beta rhythm was also observed at 18 Hz.  The features of drowsiness include an increase in beta activity and was observed.  The sleep, stage I and II, were recorded with POSTS and K-complexes.  Hyperventilation and photic stimulation did not illicit any abnormal activities.\\nABNORMAL DISCHARGES:  None.\\nSEIZURES:  None\\nIMPRESSION:  Normal EEG in wakefulness and sleep.\\nCLINICAL CORRELATION:  No epileptiform features were identified.  A normal EEG does not exclude the diagnosis epilepsy.\\n\\n\\n\\n'\n",
            "Label: 1\n",
            "Report:  b'\\n\\nCLINICAL HISTORY: 81 year old male admitted last Sunday morning with repetitive seizures, history of multiple sclerosis, and cognitive impairment.\\n\\nMEDICATIONS: Dilantin, Lisinopril, Metoprolol, Lovenox, Keppra\\n\\nINTRODUCTION: Digital video EEG was performed in lab using standard 10-20 system of electrode placement with 1 channel of EKG. This is an awake and drowsy record.\\n\\nDESCRIPTION OF RECORD: The background EEG demonstrates a very slow pattern in an awake and drowsy adult. When the patient is awake, there is an increase in background muscle artifact. As he drifts off to sleep there is more of a theta delta pattern with occasional bursts of slowing from the left frontal central region.\\n\\nHR: 72 bpm\\n\\nIMPRESSION: Abnormal EEG due to:\\n1. Marked background slowing.\\n2. Superimposed focal slowing from the left frontal central region.\\n\\nCLINICAL CORRELATION: In contrast to a study performed earlier this week, no epileptiform features were noted.\\n\\n\\n'\n",
            "Label: 0\n",
            "Report:  b'CLINICAL HISTORY:  44 year old right handed male, childhood epilepsy, refractory epilepsy.  He has had seizures characterized by tonic clonic seizures with loss of consciousness, postictal confusion, and visual impairment. Seizures types include complex partial seizures with epigastric rising.\\nMEDICATIONS:  Vimpat, phenobarbital.\\nINTRODUCTION:  Digital video EEG was performed in lab using standard 10-20 system of electrode placement with 1 channel EKG.  Hyperventilation and photic stimulation were performed.\\nDESCRIPTION OF THE RECORD:  In wakefulness, there is an alpha rhythm of 8.0 Hz.  This is sometimes disrupted on the left compared to the right.  In addition, there is occasional, rhythmic slowing in the left temporal region with rhythmic 3-5 Hz activity.  Rare left temporal sharp waves are observed.  As the patient transitions towards sleep, there is some more sharply contoured slowing from the left.  Sleep is not sustained.\\nPhotic stimulation elicits bilateral driving with supraharmonic driving.\\nHR:    56 bpm\\nIMPRESSION:  Abnormal EEG due to:\\nLeft temporal rhythmic theta.\\nRare left temporal sharp waves.\\nAlpha asymmetry.\\nCLINICAL CORRELATION:  This EEG supports a structural or functional process on the left.  The sharp waves are in the region of the focal slowing.\\n\\n\\n\\n'\n",
            "Label: 1\n",
            "Report:  b'CLINICAL HISTORY: 72 year old woman with aphasia, change in mental status, MCA\\ninfarct, dementia, panic, other medical problems.\\nMEDICATIONS: Dilantin, Zyprexa, Risperdal, Fibercon, Furosemide. Motrin,\\nAcidophilus\\nINTRODUCTION: Digital video EEG was performed in lab using standard 10-20\\nsystem of electrode placement with 1 channel of EKG. Photic stimulation was\\nperformed.\\nDESCRIPTION OF THE RECORD: The background EEG is a high amplitude,\\ndisorganized, somewhat chaotic-appearing record. There is a great deal of muscle\\nmovement artifact. There are sharp waves at noted F7 and at T4. There is also some\\nfocal slowing and more significant sharp waves in the right mid and anterior temporal\\nregion. Muscle artifact is problematic in the frontal regions. The overall background is\\nslow. Photic stimulation does not activate record.\\nHR: 96 bpm\\nIMPRESSION: Abnormal EEG due to:\\n1. Background slowing.\\n2. Absence of the normal morphologies for an adult of this age.\\n3. Sharp waves primarily right mid temporal but sometimes left anterior temporal.\\nCLINICAL CORRELATION: These findings are similar to the study done the previous\\nday. There is no quite as much in the way of epileptiform activity. If epilepsy is an\\nimportant consideration, a consideration for a longer term recording to capture her\\nevents is suggested.\\n\\n\\n\\n\\n'\n",
            "Label: 0\n",
            "Report:  b\"CLINICAL HISTORY: 22 year old woman with epilepsy, last seizure 1 week ago.\\nMEDICATIONS: Dilantin, Phenobarbital, Depakote\\nINTRODUCTION: Digital video EEG was performed in lab using standard 10-20 system of electrode placement with 1 channel of EKG. Hyperventilation and photic simulation are performed. This is an awake and asleep record.\\nDESCRIPTION OF THE RECORD: In wakefulness, there is a 10 Hz, 40 microvolt alpha rhythm with a small amount of low voltage, frontocentral beta activity. Drowsiness is characterized by slow-rolling eye movements with an increase in theta. Vertex waves and POSTS are observed in brief stage-1 sleep. Hyperventilation produces an increase in amplitude in the background. Photic stimulation elicits vigorous driving with supraharmonic driving.\\nHR: 84 bpm\\nIMPRESSION: Normal EEG.\\nCLINICAL CORRELATION: No focal nor epileptiform features are observed. Additional EEG recording may be helpful to characterize this individual's epilepsy.\\n\\n\\n\\n\"\n",
            "Label: 1\n",
            "Report:  b'REASON FOR STUDY:  Seizures.\\nCLINICAL HISTORY:  This is a 57-year-old woman with seizures since 2009.  She complains of headache and falls during the event.\\nMEDICATIONS:  The patient does not remember.\\nINTRODUCTION:  A routine EEG was performed using the standard 10-20 electrode placement system with additional anterior temporal and single-lead EKG electrodes.  The patient was recorded during wakefulness.  Activating procedures included photic stimulation.\\nTECHNICAL DIFFICULTIES:  Some T3 electrode artifact.\\nDESCRIPTION OF THE RECORD:  The record opens to a well-defined posterior dominant rhythm that reaches 9 Hz which is reactive to eye opening.  There is normal frontocentral beta.  Activating procedures included photic stimulation.  The patient is only recorded during wakefulness and drowsiness.\\nHeart rate 84.\\nAbnormal discharges:  None.\\nIMPRESSION:  Normal awake and drowsy EEG.\\nCLINICAL CORRELATION:  This is a normal awake and drowsy EEG.  No seizures or epileptiform discharges were seen.\\n\\n\\n\\n'\n",
            "Label: 1\n",
            "Report:  b'REASON FOR STUDY:  Seizures.\\nINTRODUCTION:  A routine EEG was performed using the standard 10-20 electrode placement system with anterior temporal and single lead EKG electrode.  The patient was recorded during wakefulness and sleep.  Activating procedures included hyperventilation and photic stimulation.\\nMEDICATIONS:  Lorazepam.\\nHISTORY:  A 48-year-old woman with recent history of seizures, sent to the ER after having a seizure in the clinic today.\\nTECHNICAL DIFFICULTIES:  None.\\nDESCRIPTION OF THE RECORD:  The record opens to a well-developed posterior dominant rhythm that reaches 9-10 Hz which is reactive to eye opening.  There is normal frontocentral beta.  The patient is recorded during wakefulness, stage I and stage II sleep.  Activating procedures including hyperventilation and photic stimulation produced no abnormal discharges.\\nABNORMAL DISCHARGES:  None.\\nSEIZURES:  None.\\nIMPRESSION:  Normal awake and asleep EEG.\\nCLINICAL CORRELATION:  This is a normal awake and asleep EEG.  No seizures or epileptiform discharges were seen.\\n\\n\\n\\n'\n",
            "Label: 1\n",
            "Report:  b'EEG REPORT\\nCLINICAL HISTORY: 41 year old right handed woman with episodes lasting 10-15 minutes with eyes rolling back in head, head turning to the left, confusion, seizure versus nonepileptic seizure.\\nMEDICATIONS: Keppra, Phenytoin.\\nINTRODUCTION: Digital video EEG was performed in lab using standard 10-20 system of electrode placement with 1 channel EKG. Photic stimulation is completed.\\nDESCRIPTION OF THE RECORD: As the tracing begins, the background EEG is somewhat abnormal. There is excess theta. There are bursts of slowing. Right frontal temporal sharp waves are noted. There is also some shifting slowing. As the patient becomes drowsy, the asymmetry is a bit more remarkable with focal slowing in the right anterior temporal region and higher amplitude right anterior temporal spike and slow wave complexes. Bursts of sharp waves are noted as the patient transitions into sleep, which are seen first on the right and then on the left. The patient starts to transition into stage sleep. Sharp waves at that point are seen with an unusual field of spread, F8, T4, and then frontal left or right, or with an asymmetry, but with some bilateral representation. Photic stimulation elicits a vigorous driving response.\\nHR: 90 bpm\\nIMPRESSION: Abnormal EEG due to:\\n1. Abundant epileptiform activity with more than 1 localization.\\n2. Right anterior temporal sharp waves.\\n3. Sharply contoured delta from the left mid temporal region.\\n4. Some bifrontal sharp activity.\\nCLINICAL This EEG supports a focal mechanism for epilepsy. The\\nbackground slowing and the focal slowing may be correlated with imaging.\\n\\n\\n\\n\\n'\n",
            "Label: 0\n"
          ],
          "name": "stdout"
        }
      ]
    },
    {
      "cell_type": "markdown",
      "metadata": {
        "id": "jCZGl4Q5l2sS"
      },
      "source": [
        "The labels are `0` or `1`. To see which of these correspond to which string label, you can check the `class_names` property on the dataset, as below.\n"
      ]
    },
    {
      "cell_type": "code",
      "metadata": {
        "id": "gIpCS7YjmGkj",
        "colab": {
          "base_uri": "https://localhost:8080/"
        },
        "outputId": "620477e8-f187-4f74-d16c-fb56e205a057"
      },
      "source": [
        "for i, label in enumerate(full_ds.class_names):\n",
        "  print(\"Label\", i, \"corresponds to\", label)"
      ],
      "execution_count": null,
      "outputs": [
        {
          "output_type": "stream",
          "text": [
            "Label 0 corresponds to abnormal\n",
            "Label 1 corresponds to normal\n"
          ],
          "name": "stdout"
        }
      ]
    },
    {
      "cell_type": "markdown",
      "metadata": {
        "id": "Xdt-ATrGRGDL"
      },
      "source": [
        "### Prepare the dataset for training"
      ]
    },
    {
      "cell_type": "markdown",
      "metadata": {
        "id": "N6fRti45Rlj8"
      },
      "source": [
        "Next, you will standardize, tokenize, and vectorize the data using the `preprocessing.TextVectorization` layer.\n",
        "* Standardization refers to preprocessing the text, typically to remove punctuation or HTML elements to simplify the dataset.\n",
        "\n",
        "* Tokenization refers to splitting strings into tokens (for example, splitting a sentence into individual words by splitting on whitespace).\n",
        "\n",
        "* Vectorization refers to converting tokens into numbers so they can be fed into a neural network.\n",
        "\n",
        "All of these tasks can be accomplished with this layer. You can learn more about each of these in the [API doc](https://www.tensorflow.org/api_docs/python/tf/keras/layers/experimental/preprocessing/TextVectorization).\n",
        "\n",
        "* The default standardization converts text to lowercase and removes punctuation.\n",
        "\n",
        "* The default tokenizer splits on whitespace.\n",
        "\n",
        "* The default vectorization mode is `int`. This outputs integer indices (one per token). This mode can be used to build models that take word order into account. You can also use other modes, like `binary`, to build bag-of-word models.\n",
        "\n",
        "\n",
        "Here we will use the `binary` mode to build a bag-of-words model (essentially one-hot encoding of whether each word in the vocabulary appears in the report). Then we will use the `int` mode (integer encoding of each word in the report, with order preserved) with a 1D ConvNet."
      ]
    },
    {
      "cell_type": "code",
      "metadata": {
        "id": "voaC43rZR0jc"
      },
      "source": [
        "VOCAB_SIZE = 10000\n",
        "\n",
        "binary_vectorize_layer = TextVectorization(\n",
        "    max_tokens=VOCAB_SIZE,\n",
        "    output_mode='binary')"
      ],
      "execution_count": null,
      "outputs": []
    },
    {
      "cell_type": "markdown",
      "metadata": {
        "id": "ifDPFxuf2Hfz"
      },
      "source": [
        "For `int` mode, in addition to maximum vocabulary size, you need to set an explicit maximum sequence length, which will cause the layer to pad or truncate sequences to exactly sequence_length values."
      ]
    },
    {
      "cell_type": "code",
      "metadata": {
        "id": "XWsY01Zl2aRe"
      },
      "source": [
        "MAX_SEQUENCE_LENGTH = 250\n",
        "\n",
        "int_vectorize_layer = TextVectorization(\n",
        "    max_tokens=VOCAB_SIZE,\n",
        "    output_mode='int',\n",
        "    output_sequence_length=MAX_SEQUENCE_LENGTH)"
      ],
      "execution_count": null,
      "outputs": []
    },
    {
      "cell_type": "markdown",
      "metadata": {
        "id": "ts6h9b5atD-Y"
      },
      "source": [
        "Next, you will call `adapt` to make the VectorizationLayer adjust itself according to the vocabulary in the dataset.\n",
        "\n",
        "Note: it's important to only use your training data when calling adapt (using the test set would leak information)."
      ]
    },
    {
      "cell_type": "code",
      "metadata": {
        "id": "yTXsdDEqSf9e"
      },
      "source": [
        "# To avoid some errors caused by non-standard characters, we create a function\n",
        "# that does some additional 'cleaning' of the text.\n",
        "def clean_text(text, labels):\n",
        "  cleaned_version_of_text = tf.strings.unicode_transcode(text, \"US ASCII\", \"UTF-8\") \n",
        "  return cleaned_version_of_text\n",
        "  \n",
        "# Now apply our clean_text function to the full dataset.\n",
        "train_text = raw_train_ds.map(clean_text) \n",
        "\n",
        "# Finally, let the vectorize layers adjust themselves to fit the vocabulary of the dataset.\n",
        "binary_vectorize_layer.adapt(train_text)\n",
        "int_vectorize_layer.adapt(train_text)"
      ],
      "execution_count": null,
      "outputs": []
    },
    {
      "cell_type": "markdown",
      "metadata": {
        "id": "XKVO6Jg7Sls0"
      },
      "source": [
        "See the result of using these layers to preprocess data:"
      ]
    },
    {
      "cell_type": "code",
      "metadata": {
        "id": "RngfPyArSsvM"
      },
      "source": [
        "def binary_vectorize_text(text, label):\n",
        "  text = tf.expand_dims(text, -1)\n",
        "  return binary_vectorize_layer(text), label"
      ],
      "execution_count": null,
      "outputs": []
    },
    {
      "cell_type": "code",
      "metadata": {
        "id": "_1W54wf0LhQ0"
      },
      "source": [
        "def int_vectorize_text(text, label):\n",
        "  text = tf.expand_dims(text, -1)\n",
        "  return int_vectorize_layer(text), label"
      ],
      "execution_count": null,
      "outputs": []
    },
    {
      "cell_type": "code",
      "metadata": {
        "id": "Vi_sElMiSmXe",
        "colab": {
          "base_uri": "https://localhost:8080/"
        },
        "outputId": "d302ef53-2143-408e-dbfd-b816fe10b631"
      },
      "source": [
        "# Retrieve a batch (of 32 reports and labels) from the dataset\n",
        "text_batch, label_batch = next(iter(raw_train_ds))\n",
        "first_report, first_label = text_batch[3], label_batch[3]\n",
        "print(\"Report\", first_report)\n",
        "print(\"Label\", first_label)"
      ],
      "execution_count": null,
      "outputs": [
        {
          "output_type": "stream",
          "text": [
            "Report tf.Tensor(b'CLINICAL HISTORY:  A 66-year-old woman with history of epilepsy.  The patient repeatedly stops seizure medicine.  Ran out of Keppra and has had multiple spells.  Two to 4 seizures per month.\\nMEDICATIONS:  Imitrex, Fosamax, and many others.\\nINTRODUCTION:  Digital video EEG was performed in the lab using standard 10-20 system of electrode placement with 1 channel of EKG.  Photic stimulation are completed.\\nDESCRIPTION OF THE RECORD:  In wakefulness, there is a 9 Hz alpha rhythm with a generous amount of low voltage, frontocentral beta activity.  Occasional bursts of shifting and flowing are noted from the right or left temporal regions.  Features of drowsiness include an increase in rhythmicity of the background followed by post and subtle vertex waves.\\nPhotic stimulation was performed while the patient was drifting in and out of sleep but a driving response was obtained.\\nIMPRESSION:  This is an abnormal EEG due to:\\nBackground slowing.\\nDisorganization.\\nShifting and slowing.\\nCLINICAL CORRELATION:  These findings are similar to a previous study made 2011 but there is a little bit more background slowing and shifting slowing.  Correlation with clinical history and imaging is important for this older adult with multiple medical problems.\\n\\n\\n\\n', shape=(), dtype=string)\n",
            "Label tf.Tensor(0, shape=(), dtype=int32)\n"
          ],
          "name": "stdout"
        }
      ]
    },
    {
      "cell_type": "code",
      "metadata": {
        "id": "UGukZoYv2v3v",
        "colab": {
          "base_uri": "https://localhost:8080/"
        },
        "outputId": "b5e58f49-1f71-4b79-a00c-d7fef617130c"
      },
      "source": [
        "print(\"'binary' vectorized report:\", \n",
        "      binary_vectorize_text(first_report, first_label)[0])"
      ],
      "execution_count": null,
      "outputs": [
        {
          "output_type": "stream",
          "text": [
            "'binary' vectorized report: tf.Tensor([[0. 1. 1. ... 0. 0. 0.]], shape=(1, 6475), dtype=float32)\n"
          ],
          "name": "stdout"
        }
      ]
    },
    {
      "cell_type": "code",
      "metadata": {
        "id": "Lu07FsIw2yH5",
        "colab": {
          "base_uri": "https://localhost:8080/"
        },
        "outputId": "513cd222-d550-4c34-e1a3-94b232269237"
      },
      "source": [
        "print(\"'int' vectorized report:\",\n",
        "      int_vectorize_text(first_report, first_label)[0])"
      ],
      "execution_count": null,
      "outputs": [
        {
          "output_type": "stream",
          "text": [
            "'int' vectorized report: tf.Tensor(\n",
            "[[  12   18    6 2089  113    7   18    3   77    2   17 1998 1354   99\n",
            "  2957 2538  178    3  139    4  136  171  208  368  735   10  312   24\n",
            "   249  569   34 2370 2043    4  570  365   48   60   59    9   11   13\n",
            "     8    2   82   50   45   46   44    3   29   51    7   55   71    3\n",
            "    37   21   19   30  206   41    3    2   14    8   36   15    5    6\n",
            "   162   40   70   31    7    6  247  112    3  117  128  120   61   35\n",
            "   198  147    3  215    4 3755   30   76  124    2   20   67   27   47\n",
            "   213   84    3   80  179   25  116    8 1507    3    2   39  225   93\n",
            "   233    4  262  141   56   21   19   11   13  232    2   17   11  515\n",
            "     8    4  178    3   23   90    6  103  168   11 1465   43   16    5\n",
            "    25   42    9   74   10   39   33  430  215    4   33   12   49  173\n",
            "   170   30  499   10    6  182  104 1820  695   90   15    5    6  403\n",
            "   193   97   39   33    4  215   33   49    7   12   18    4  555    5\n",
            "   281   54   16 2014  358    7  208  266  652    0    0    0    0    0\n",
            "     0    0    0    0    0    0    0    0    0    0    0    0    0    0\n",
            "     0    0    0    0    0    0    0    0    0    0    0    0    0    0\n",
            "     0    0    0    0    0    0    0    0    0    0    0    0    0    0\n",
            "     0    0    0    0    0    0    0    0    0    0    0    0]], shape=(1, 250), dtype=int64)\n"
          ],
          "name": "stdout"
        }
      ]
    },
    {
      "cell_type": "markdown",
      "metadata": {
        "id": "wgjeF9PdS7tN"
      },
      "source": [
        "As you can see above, `binary` mode returns an array denoting which tokens exist at least once in the input, while `int` mode replaces each token by an integer, thus preserving their order. You can lookup the token (string) that each integer corresponds to by calling `.get_vocabulary()` on the layer."
      ]
    },
    {
      "cell_type": "code",
      "metadata": {
        "id": "WpBnTZilS8wt",
        "colab": {
          "base_uri": "https://localhost:8080/"
        },
        "outputId": "05ebd555-6022-430d-cd4b-f92f2abbd8d3"
      },
      "source": [
        "print(\"42 ---> \", int_vectorize_layer.get_vocabulary()[42])\n",
        "print(\"44 ---> \", int_vectorize_layer.get_vocabulary()[44])\n",
        "print(\"Vocabulary size: {}\".format(len(int_vectorize_layer.get_vocabulary())))"
      ],
      "execution_count": null,
      "outputs": [
        {
          "output_type": "stream",
          "text": [
            "42 --->  abnormal\n",
            "44 --->  system\n",
            "Vocabulary size: 6472\n"
          ],
          "name": "stdout"
        }
      ]
    },
    {
      "cell_type": "markdown",
      "metadata": {
        "id": "0kHgPE_YwHvp"
      },
      "source": [
        "You are nearly ready to train your model. As a final preprocessing step, you will apply the `TextVectorization` layers you created earlier to the train, validation, and test dataset."
      ]
    },
    {
      "cell_type": "code",
      "metadata": {
        "id": "46LeHmnD55wJ"
      },
      "source": [
        "binary_train_ds = raw_train_ds.map(binary_vectorize_text)\n",
        "binary_val_ds = raw_val_ds.map(binary_vectorize_text)\n",
        "binary_test_ds = raw_test_ds.map(binary_vectorize_text)\n",
        "\n",
        "int_train_ds = raw_train_ds.map(int_vectorize_text)\n",
        "int_val_ds = raw_val_ds.map(int_vectorize_text)\n",
        "int_test_ds = raw_test_ds.map(int_vectorize_text)"
      ],
      "execution_count": null,
      "outputs": []
    },
    {
      "cell_type": "markdown",
      "metadata": {
        "id": "2T4PaCEcNo9m"
      },
      "source": [
        "# Rule-Based (non-ML) Approach\n",
        "\n",
        "Looking through the reports, it seems as though it's usually stated quite clearly when the EEG is abnormal. Rather than attempting any machine learning, why don't we just look for that key word (or related words/phrases) in the text? A very basic version of this approach is implemented below."
      ]
    },
    {
      "cell_type": "code",
      "metadata": {
        "colab": {
          "base_uri": "https://localhost:8080/"
        },
        "id": "g6QvDfsSJEwS",
        "outputId": "ee8d5e5b-c4be-4516-b12b-c4b6166b966d"
      },
      "source": [
        "'''\n",
        "TODO:\n",
        "Check labeling.\n",
        "'''\n",
        "# First initialise some counters\n",
        "n = 0\n",
        "n_correct = 0\n",
        "n_failed_decode = 0\n",
        "\n",
        "\n",
        "# Iterate over all batches, taking the text and labels batch-by-batch.\n",
        "# N.B. take(-1) has the effect of pulling out all the batches, instead of a specific number, as explained in the docs here: https://www.tensorflow.org/api_docs/python/tf/data/Dataset#take\n",
        "for text_batch, label_batch in full_ds.take(-1):\n",
        "\n",
        "  # Iterate over the report examples in the batch:\n",
        "  for ind,text in enumerate(text_batch):\n",
        "\n",
        "    # Get rid of any pesky non-standard characters using the function we created previously.\n",
        "    cleaned_text = clean_text(text,0)\n",
        "    # Then convert it from a tensorflow Tensor to a python string so that we can \n",
        "    # use some standard python text analysis on it.\n",
        "    cleaned_and_decoded_text = cleaned_text.numpy().decode(\"UTF-8\")\n",
        "\n",
        "    find_impression = re.search(\"impression\", cleaned_and_decoded_text.lower(), flags=re.IGNORECASE)\n",
        "    first_char,last_char = find_impression.span()\n",
        "\n",
        "    #find_clinical = re.search(\"clinical correlation:\", cleaned_and_decoded_text.lower(), flags=re.IGNORECASE)\n",
        "    #if find_clinical != None:\n",
        "    #  first_char_clin, last_char_clin = find_clinical.span()\n",
        "    #  last_char = first_char_clin\n",
        "    #else:\n",
        "    last_char = last_char +50\n",
        "\n",
        "    searched_text = cleaned_and_decoded_text.lower()[first_char:last_char]\n",
        "\n",
        "\n",
        "    is_abnormal = re.search('abnormal|absence of normal|outside of the range of normal|not normal', searched_text.lower(), flags=re.IGNORECASE)\n",
        "    #also_abnormal = re.search(\"absence of normal\", searched_text.lower(), flags=re.IGNORECASE)\n",
        "    \n",
        "    # Check if the word 'abnormal' is in the report, and label it accordingly.\n",
        "    if is_abnormal:\n",
        "      predicted_label = 0\n",
        "    else:\n",
        "      predicted_label = 1\n",
        "      \n",
        "    # If we predicted correctly, add one to our count of correct predictions.\n",
        "    if predicted_label==label_batch[ind]:\n",
        "      n_correct = n_correct+1\n",
        "    else:\n",
        "      # Uncomment the lines below if you want to inspect the cases where we were wrong.\n",
        "      # print(\"--- Wrong example ---\")\n",
        "       print(f\"This example was classified with label {predicted_label} but its actual label is {label_batch[ind].numpy()}.\")\n",
        "       print(\"---\")\n",
        "       print(cleaned_and_decoded_text)\n",
        "       print(\"---------------------\")\n",
        "      # pass\n",
        "\n",
        "    # Add one to our count of the total number of examples examined.\n",
        "    n = n+1\n",
        "\n",
        "\n",
        "print(f\"Accuracy = {round(100*n_correct/n,3)} percent ({n_correct} correct predictions out of {n}). {n - n_correct} misclassified.\")\n"
      ],
      "execution_count": null,
      "outputs": [
        {
          "output_type": "stream",
          "text": [
            "This example was classified with label 0 but its actual label is 1.\n",
            "---\n",
            "CLINICAL HISTORY:  44 year old right handed male, childhood epilepsy, refractory epilepsy.  He has had seizures characterized by tonic clonic seizures with loss of consciousness, postictal confusion, and visual impairment. Seizures types include complex partial seizures with epigastric rising.\n",
            "MEDICATIONS:  Vimpat, phenobarbital.\n",
            "INTRODUCTION:  Digital video EEG was performed in lab using standard 10-20 system of electrode placement with 1 channel EKG.  Hyperventilation and photic stimulation were performed.\n",
            "DESCRIPTION OF THE RECORD:  In wakefulness, there is an alpha rhythm of 8.0 Hz.  This is sometimes disrupted on the left compared to the right.  In addition, there is occasional, rhythmic slowing in the left temporal region with rhythmic 3-5 Hz activity.  Rare left temporal sharp waves are observed.  As the patient transitions towards sleep, there is some more sharply contoured slowing from the left.  Sleep is not sustained.\n",
            "Photic stimulation elicits bilateral driving with supraharmonic driving.\n",
            "HR:    56 bpm\n",
            "IMPRESSION:  Abnormal EEG due to:\n",
            "Left temporal rhythmic theta.\n",
            "Rare left temporal sharp waves.\n",
            "Alpha asymmetry.\n",
            "CLINICAL CORRELATION:  This EEG supports a structural or functional process on the left.  The sharp waves are in the region of the focal slowing.\n",
            "\n",
            "\n",
            "\n",
            "\n",
            "---------------------\n",
            "This example was classified with label 1 but its actual label is 0.\n",
            "---\n",
            "REASON FOR STUDY:  Seizures.\n",
            "CLINICAL HISTORY:  A 72-year-old woman with history of seizures for 27 years, here for follow up EEG.  The patient had a seizure 6 months ago with loss of consciousness, bladder incontinence and postictal back to baseline in half an hour.\n",
            "MEDICATIONS:  Keppra.\n",
            "INTRODUCTION:  A routine EEG was performed using a standard 10-20 system with one anterior temporal and single lead EKG electrode. The patient was recorded in wakefulness and sleep. Activating procedures included hyperventilation and photic stimulation.\n",
            "DESCRIPTION OF THE RECORD:  The record opens to a posterior dominant rhythm that reaches 9 Hz which is reactive to eye opening.  There is normal frontocentral beta.  The patient is recorded in wakefulness, stage I, stage II sleep.  Activating procedures include hyperventilation and photic stimulation.\n",
            "ABNORMAL DISCHARGES:  None, however there are 2 left temporal sharp transients that are suspicious but not clearly epileptiform.\n",
            "SEIZURES:  None.\n",
            "IMPRESSION:  Normal EEG.\n",
            "CLINICAL CORRELATION:  This is a normal EEG with no seizures or epileptiform discharges that were clearly seen.  However, there are 2 left sharp transients that are suspicious for epileptiform activity.  Please note that this has been seen in the previous EEGs.\n",
            "\n",
            "\n",
            "\n",
            "\n",
            "---------------------\n",
            "This example was classified with label 1 but its actual label is 0.\n",
            "---\n",
            "CLINICAL HISTORY:  56  year old right handed woman with question of epileptic versus nonepileptic features followed by postictal confusion.\n",
            "MEDICATIONS:  Lisinopril, Paxil, Plavix, ASA, Depakote.\n",
            "INTRODUCTION:  Digital video EEG was performed in lab using standard 10-20 system of electrode placement with 1 channel of EKG.  Photic stimulation was completed.\n",
            "DESCRIPTION OF THE RECORD:  In wakefulness, there is a 9 Hz alpha rhythm.  Drowsiness is characterized by slowing of the background with attenuation of alpha rhythm.  Photic stimulation elicits bilateral driving. The patient had a behavior event at 3:28:24.  She is resting comfortably.  She starts her head initially subtly and then more prominently.  Head movements are to the right, then to the left, and then back and forth.  She vocalizes later during seizure as if she is having trouble breathing and then has a yelp at the end of the seizure.  The seizure ends at 3:29:34.  There is no postictal slowing and she drifts off to sleep afterwards.\n",
            "HR:    78 bpm, rare PVCs.\n",
            "IMPRESSION:  Normal EEG.\n",
            "CLINICAL CORRELATION:  The behavior in question was not associated with epileptiform activity.  In addition, the characteristics of the behavior were suggestive of a nonepileptic seizure. This is the 6th EEG for this patient prior EEGs demonstrated similar findings.\n",
            "\n",
            "\n",
            "\n",
            "\n",
            "---------------------\n",
            "This example was classified with label 1 but its actual label is 0.\n",
            "---\n",
            "CLINICAL HISTORY:  A 44-year-old male with factor V deficiency, hypertension, DVT, and coronary artery disease as well as epilepsy.  The patient developed chest pain and 3 seizures on the 3rd, characterized by generalized, upper extremity movements.\n",
            "MEDICATIONS:  Zocor, Plavix, aspirin, Keppra, Dilantin, others.\n",
            "INTRODUCTION:  Digital video EEG was performed at the bedside in the ICU using standard 10-20 system of electrode placement with one channel of EKG.  The patient appears to be drowsy.  In addition, there is some head rocking movement on the right.\n",
            "DESCRIPTION OF THE RECORD:  The drowsy record is relatively symmetric with generous beta.  TOSTs are noted with occasional spindles in sleep.  Despite the head rocking artifact, there does appear to be some focal slowing and a discreet sharp wave in the right posterior temporal region.  Other sections of the record demonstrate more symmetric TOSTs in sleep.\n",
            "Stimulation of the patient produced a brief arousal with an increase in alpha frequency activity but wakefulness was not sustained.\n",
            "Heart rate 96 BPM.\n",
            "IMPRESSION:  This is a primarily drowsy EEG and is somewhat technically limited by head rocking artifact but is abnormal due to:\n",
            "Right posterior temporal focal slowing.\n",
            "Rare right posterior sharp waves.\n",
            "No seizures were recorded.  Overall, much of the sleep morphology is symmetric.  In this individual with focal features, additional testing to look for an asymmetric alpha rhythm might be of value.\n",
            "\n",
            "\n",
            "\n",
            "\n",
            "---------------------\n",
            "This example was classified with label 1 but its actual label is 0.\n",
            "---\n",
            "CLINICAL HISTORY:  A 67-year-old gentleman with posttraumatic disorder versus epilepsy. Anxiety, hallucinations, panic, and tremulousness.\n",
            "MEDICATIONS:  Keppra, Celexa, Ditropan, many others.\n",
            "INTRODUCTION:  Digital video EEG is performed in the lab/bedside using standard 10-20 system of electrode placement with one channel of EKG.  Hyperventilation was not completed today but photic stimulation was performed.\n",
            "DESCRIPTION OF THE RECORD:  In wakefulness, the background EEG includes an 8 Hz alpha rhythm.  There is a small amount of excess beta and theta noted.  Features of drowsiness include an increase in beta, rare, isolated bursts of focal slowing were noted from either hemisphere.  Photic stimulation elicited a driving response with supra-harmonic driving at 5 Hz.\n",
            "Heart rate 78 beats per minute.\n",
            "IMPRESSION:  This electroencephalogram is similar to previous and is mildly abnormal due to:\n",
            "Mild slowing of the alpha rhythm.\n",
            "Mild excess theta.\n",
            "CLINICAL CORRELATION:  This is one of many EEGs which have not shown sharp waves or spikes.  In 2010, there was a single EEG with some focal slowing and hyperventilation, but this is the only focal finding that has ever been observed for this patient.  Additional EEG monitoring was undertaken to characterize this patient's spells.\n",
            "\n",
            "\n",
            "\n",
            "\n",
            "---------------------\n",
            "This example was classified with label 0 but its actual label is 1.\n",
            "---\n",
            "CLINICAL HISTORY: 47 year old male with end-stage renal disease, multiple severe medical problems, intubated in the ICU, found with a blood glucose of 900. Obtundation but no clinical seizures. Bilateral CVA's.\n",
            "MEDICATIONS: Protonix, Ativan, Insulin, Zosyn\n",
            "INTRODUCTION: Continuous digital video EEG was performed at bedside using standard 10-20 system of electrode placement with 1 channel of EKG. The patient is quite obtunded but has some cranial nerve findings.\n",
            "DESCRIPTION OF THE RECORD: As the tracing begins, the background EEG is markedly suppressed. There is a lower voltage subtle, periodic delta with a sharp wave mixed in. This sharp wave is picked up at T2, perhaps maximum at T4-C4. Stimulation of the patient on 1 occasion produces a clear change in the background with rhythmic periodic activity. In addition, there is some sustained periodic discharge in the right hemisphere, which seems to have an admixed right central temporal sharp wave. Looking at the video, it appears that the patient has movement of the right thoracic region in association with this. This discharge is brief and subsides on its own. A second, remarkable discharge is identified with sharp activity present bilaterally but clearly maximum in the right hemisphere. On this occasion, the video does not identify a clinical correlate and this second event is without a doubt an electrographic seizure. In total, there are 3 well-defined electrographic seizures noted in the record. One of them seems to be stimulus sensitive and other 2 did not have clear clinical correlates.\n",
            "HR: 120-150 bpm\n",
            "IMPRESSION: Markedly abnormal EEG due to:\n",
            "1. Three electrographic seizures.\n",
            "2. Interictal pattern of marked background suppression.\n",
            "3. Epileptiform activity, which Is primarily on the right but is complex in nature.\n",
            "CLINICAL CORRELATION: This EEG supports a severe disturbance of cerebral function. It also demonstrates a very irritative focus on the right. Ongoing EEG monitoring was requested to determine the patient's response to therapy.\n",
            "\n",
            "\n",
            "\n",
            "\n",
            "\n",
            "---------------------\n",
            "This example was classified with label 1 but its actual label is 0.\n",
            "---\n",
            "CLINICAL HISTORY:  A 19-year-old woman status post MVA with multiple fractures and pneumothorax, traumatic brain injury.  Initial CT demonstrated cerebral edema.  Follow up CT demonstrated improvement.\n",
            "MEDICATIONS:  Dilaudid, propofol drip, fentanyl drip, Benadryl, Ativan, ceftriaxone.\n",
            "INTRODUCTION:  Digital video EEG was performed at the bedside in the ICU using standard 10-20 system of electrode placement with 1 channel of EKG.  This was a technically challenging EEG due to the patient's matted hair and encrusted blood.\n",
            "DESCRIPTION OF THE RECORD:  The EEG demonstrates a markedly slow pattern with slow delta and some faster frequency activity.  The patient is somewhat interactive despite the background slowing and the technologist reports that with stimulation the patient will move the right hand to command.\n",
            "There is a small amount of faster frequency activity noted in the frontal regions, as well as slow frontal delta.\n",
            "Heart rate:  120 BPM.\n",
            "IMPRESSION:  This is a technically challenging, but markedly abnormal EEG due to:\n",
            "Marked background slowing.\n",
            "Shifting slowing with a bit more rhythmic delta noted with stimulation on the left compared to the right.\n",
            "CLINICAL CORRELATION:  On the whole this EEG supports a severe bihemispheric disturbance of cerebral function with shifting asymmetries, but no specific lateralization.  Although the patient appeared to be responsive to the family, the responsive was difficult to identify.  No epileptiform features were identified.  Given the number of sedative hypnotic medications utilized, medications may play a significant role in the pattern described above.\n",
            "\n",
            "\n",
            "\n",
            "\n",
            "---------------------\n",
            "This example was classified with label 1 but its actual label is 0.\n",
            "---\n",
            "REASON FOR STUDY:  Seizures\n",
            "CLINICAL HISTORY:  A 64-year-old woman with history of seizures, specifically gelastic seizures and a history of hypothalamic hamartoma of as well as pituitary tumor status post surgery in 2009 complicated by CSF leak and blood clots.  The patient also has Pallister-Hall syndrome.\n",
            "MEDICATIONS:  Keppra, hydrochlorothiazide, verapamil, warfarin.\n",
            "INTRODUCTION:  A routine EEG was performed using a standard 10-20 electrode placement system with additional temporal and single lead EKG electrode.  The patient was recorded during wakefulness and sleep.  Activating procedures included photic stimulation and hyperventilation.\n",
            "TECHNICAL DIFFICULTIES:  None.\n",
            "DESCRIPTION OF THE RECORD:  The record opens to a well-defined posterior dominant rhythm that reaches 8.5-9 Hz which is reactive to eye opening.  There is normal frontocentral beta.  The patient is recorded in wakefulness and sleep stage I.\n",
            "Activating procedures including hyperventilation and photic stimulation produced no abnormal discharges.\n",
            "ABNORMAL DISCHARGES:  None.\n",
            "SEIZURES:  None.\n",
            "IMPRESSION:  Normal awake and asleep electroencephalogram.\n",
            "CLINICAL CORRELATION:  This is a normal awake and sleep electroencephalogram.  No seizures or epileptiform discharges were seen.\n",
            "__________________________\n",
            "\n",
            "\n",
            "\n",
            "\n",
            "---------------------\n",
            "This example was classified with label 0 but its actual label is 1.\n",
            "---\n",
            "REASON FOR STUDY:  Seizures.\n",
            "CLINICAL HISTORY:  This is a 54-year-old man with history of epilepsy secondary to right temporal lobe metastases.  Presented with a seizure and was given 10 mg of Ativan and loaded with Dilantin in the ER.  EEG to rule out subclinical status epilepticus.\n",
            "TECHNICAL DIFFICULTIES:  None.\n",
            "MEDICATIONS:  Versed, Ativan, Dilantin.\n",
            "INTRODUCTION:  Digital video EEG is performed using standard 10-20 system of electrode placement with single lead of EKG.  The patient was recorded while unresponsive.  Activating procedures were not performed.\n",
            "DESCRIPTION OF THE RECORD:  The record opens to a diffusely slow background with no normal posterior dominant rhythm or frontocentral beta.  The patient is recorded while he is unresponsive and no normal sleep architecture is seen.  No activating procedures are performed.  The patient is stimulated during the recording and there appears to be some muscle artifact and mild reactivity to the EEG.  Overall, the background consists of delta, low amplitude delta slow waves with intermittent bursts of theta and some focal slowing which are described beyond normal discharges.\n",
            "Abnormal discharges:\n",
            "Focal slow waves seen intermittently over the right hemisphere, maximal at C4/T4 at a frequency of 2-4 Hz, amplitude of 20 microvolts.\n",
            "Generalized slow waves at 2-4 Hz, amplitude 20 microvolts, occurring continuously with intermixed theta slowing seen infrequently.  Again, there is some reactivity to this EEG.\n",
            "Heart rate:  90.\n",
            "IMPRESSION:  Abnormal EEG due to generalized slowing, as well as some right central temporal focal slowing.\n",
            "CLINICAL CORRELATION:  This EEG reveals evidence of focal cerebral dysfunction in the right centrotemporal region which is consistent with a known tumor.  In addition, there is evidence of diffuse cerebral dysfunction, which is nonspecific with regards to etiology, but may be due at least in part to medication effect.  No seizures or clear epileptiform discharges were seen.\n",
            "\n",
            "\n",
            "\n",
            "\n",
            "---------------------\n",
            "This example was classified with label 1 but its actual label is 0.\n",
            "---\n",
            "CLINICAL HISTORY: 23 year old right handed male with primary generalized epilepsy.\n",
            "\n",
            "MEDICATIONS: Topamax\n",
            "\n",
            "IMPRESSION: Digital video EEG was performed in lab using standard 10-20 system of\n",
            "electrode placement with 1 channel EKG. Hyperventilation and photic stimulation are\n",
            "performed. This is an awake and asleep record.\n",
            "\n",
            "DESCRIPTION OF THE RECORD: In wakefulness the background EEG includes an 11.5 Hz\n",
            "posterior dominant rhythm with posterior slow waves of youth. In relaxed wakefulness there are brief bursts of frontally predominant 3 to 5 Hz spike in wave activity with bursts typically 1.8 seconds in duration. Most are under 2 seconds and none exceed 3 seconds in duration. Hyperventilation seems to accentuate these bursts. An attempt to test for responsiveness during stimulation is attempted but the bursts are so brief that it is not possible to complete the test before the burst is over. There are no deficits in recall identified during the bursts. On rare occasions as the patient becomes drowsy, some of the bursts are a bit more maximum in the right frontal region. Other features of drowsiness include an increase in beta. Photic stimulation elicits a small amount of bilateral driving, but the spike in wave activity is not accentuated by this.\n",
            "\n",
            "HR: 66bpm.\n",
            "\n",
            "IMPRESSION: Abnormal EEG due to:\n",
            "1. Frontally predominant 3 to 5 Hz spike in wave activity.\n",
            "\n",
            "CLINICAL CORRELATION: These findings are more compatible with primary generalized\n",
            "epilepsy. The presence of a single isolated burst in the right frontal region does not exclude this diagnosis. This individual does not appear to have outgrown his epilepsy at this time.\n",
            "\n",
            "\n",
            "\n",
            "\n",
            "\n",
            "---------------------\n",
            "This example was classified with label 0 but its actual label is 1.\n",
            "---\n",
            "CLINICAL HISTORY: 32 year old male with learning disability, seizure free since\n",
            "2007. Previous history of vertex sharp wave.\n",
            "MEDICATIONS: Lamictal\n",
            "INTRODUCTION: Digital video EEG was performed in lab using standard 10-20\n",
            "system of electrode placement with 1 channel of EKG. Hyperventilation and photic\n",
            "stimulation are performed. This is an awaken and asleep record.\n",
            "DESCRIPTION OF THE RECORD: In wakefulness, the background EEG is relatively\n",
            "low voltage. There is excess theta in the background and a hint of 9 Hz alpha rhythm.\n",
            "Later portions of the record demonstrate a more vigorous 10 Hz posterior dominant\n",
            "rhythm. Photic stimulation elicits a driving response, but the patient is drifting into stage\n",
            "2 sleep.\n",
            "HR: 56 bpm\n",
            "IMPRESSION: Abnormal EEG due to:\n",
            "1. Mild excess theta.\n",
            "CLINICAL CORRELATION: No epileptiform features were observed in this record\n",
            "today. There were only on 1 occasion some focal theta in the right central temporal\n",
            "region. The only other abnormality is really an excess of theta or a variable degree of\n",
            "background slowing or disorganization. On the whole, these findings are less prominent\n",
            "than in previous studies. Many years ago there was a vertex spike while awake, but that\n",
            "was not seen today.\n",
            "\n",
            "\n",
            "\n",
            "\n",
            "---------------------\n",
            "This example was classified with label 1 but its actual label is 0.\n",
            "---\n",
            "CLINICAL HISTORY:  51 year old right handed woman with history of headaches and an episode of unresponsive and a car accident and possible seizures, here for classification.\n",
            "MEDICATIONS:  Depakote.\n",
            "REASON FOR STUDY:  Seizures.\n",
            "INTRODUCTION:  Digital video EEG was performed using standard 10-20 electrode placement system with additional anterior temporal and single-lead EKG electrodes.  The patient was recorded in wakefulness and sleep.  Activating procedures including hyperventilation and photic stimulation were performed.\n",
            "DESCRIPTION OF THE RECORD:  The record reveals a posterior dominant rhythm that reaches 10 Hz which is reactive to eye opening.  There is normal amount of frontocentral beta.  The patient is recorded in wakefulness, stage 1 and stage 2 sleep.  Activating procedures including hyperventilation and photic stimulation produced no abnormal discharges.\n",
            "ABNORMAL DISCHARGES:  None.\n",
            "SEIZURES:  None.\n",
            "IMPRESSION:  Normal awake and sleep EEG.\n",
            "CLINICAL CORRELATION:   No seizures or epileptiform discharges were seen.\n",
            "\n",
            "\n",
            "\n",
            "\n",
            "---------------------\n",
            "This example was classified with label 1 but its actual label is 0.\n",
            "---\n",
            "REASON FOR STUDY:  Word-finding and memory problems.\n",
            "MEDICATIONS:  Oxycodone, isosorbide, atorvastatin, Zofran, aspirin, ipratropium, Spiriva, Advair, furosemide, naproxen, amlodipine, gabapentin, meclizine, lisinopril, omeprazole, nitroglycerin.\n",
            "INTRODUCTION:  A routine EEG was performed using standard 10-20 system of electrode placement system with anterior temporal and single-lead EKG electrode. The patient was recorded during mainly sleep and some wakefulness.  Activating procedures included photic stimulation.\n",
            "HISTORY:  This is a 58-year-old female with a past medical history of MS, CHF, diabetes, hypertension, depression, dizziness, GERD, COPD, stroke, with a recent increase in falls, MS flares, and forgetfulness and word-finding problems.\n",
            "TECHNICAL DIFFICULTIES:  Some posterior electrode artifact due to sleep respiration movements and FP9 electrode artifact throughout some of the recordings.\n",
            "DESCRIPTION OF THE RECORD:  The record opens to a posterior dominant rhythm that is only seen for a limited amount of time during wakefulness that appeared to reach 9 Hematochezia.  There is normal frontocentral beta during that time.  Overall, the recording is mainly stage I and stage II sleep, and at one point there was rapid eye movement seen for a short period.  There is photic stimulation performed which produced no abnormal discharges.\n",
            "ABNORMAL DISCHARGES:  None.\n",
            "SEIZURES:  None.\n",
            "HEART RATE:  90.\n",
            "IMPRESSION:  Normal mainly asleep EEG.\n",
            "CLINICAL CORRELATION:  This EEG mainly asleep reveals no abnormal discharges.  No epileptiform activity or seizures were seen.  Please note that the patient fell asleep quickly during the recording, and remained mainly stage II.  At one point, reached REM sleep during this routine recording, which is suggestive of a sleep disorder.  A sleep consultation may be helpful.\n",
            "\n",
            "\n",
            "\n",
            "\n",
            "---------------------\n",
            "This example was classified with label 0 but its actual label is 1.\n",
            "---\n",
            "CLINICAL HISTORY:  50 year old right handed male with history of aneurysm clipping with history of seizures.  She has been seizure free for 5 years.\n",
            "MEDICATIONS:  Carbatrol, Keppra, Tipramine.\n",
            "REASON FOR STUDY:  History of seizures.\n",
            "INTRODUCTION: Digital video EEG was performed in lab using standard 10-20 electrode placement system with additional anterior temporal and single lead EKG electrode.  The patient was recorded in wakefulness and sleep.  Activating procedures, including hyperventilation and photic stimulation, were performed.\n",
            "TECHNICAL DIFFICULTIES:  None.\n",
            "DESCRIPTION OF THE RECORD:  The record opens to a background with absence of a clear posterior dominant rhythm and a very low amplitude voltage recording.  There is a preponderance of diffuse beta seen throughout the recording.  Otherwise there was normal sleep architecture seen in stage I and stage II.  Activating procedures produced no abnormal discharges.\n",
            "ABNORMAL DISCHARGES:  Some focal slow waves are noted at F3/C3 with some increase in faster frequencies at times in that region consistent with a breech.  The slow waves are noticed mainly at 2-4 Hz at an amplitude of 20-40 mV.\n",
            "SEIZURES:  None.\n",
            "IMPRESSION:  Abnormal EEG due to:\n",
            "Left frontal central slowing and breech.\n",
            "CLINICAL CORRELATION:  This EEG reveals evidence of focal cerebral dysfunction in the left frontal central region which is consistent with the known surgery.  The absence of normal posterior dominant rhythm, although atypical, could be a normal variant.  No seizures or epileptiform discharges were seen.\n",
            "\n",
            "\n",
            "\n",
            "\n",
            "---------------------\n",
            "This example was classified with label 1 but its actual label is 0.\n",
            "---\n",
            "CLINICAL HISTORY:  73 year old right handed male with hypertension, valve replacement in 1995 and aortic valve replacement and aortic dissection, preop for OR.\n",
            "MEDICATIONS:  Hydralazine, Protonix, Clonidine, Atorvastatin, Cardene.\n",
            "REASON FOR STUDY:  Preop for OR\n",
            "INTRODUCTION:  Digital video EEG was performed at bedside using standard 10-20 electrode placement system with additional anterior temporal and single-lead EKG electrode.  The patient was recorded in wakefulness and sleep.  No activating procedures were performed.\n",
            "TECHNICAL DIFFICULTIES:  None.\n",
            "DESCRIPTION OF THE RECORD:  The record opens to a well-defined posterior dominant rhythm of 9-10 Hz which is reactive to eye opening.  There is normal amount of frontocentral beta.  The patient goes into stage 1/stage 2 sleep. No activating procedures were performed.\n",
            "ABNORMAL DISCHARGES:  None.\n",
            "SEIZURES:  None.\n",
            "IMPRESSION:  Normal awake and sleep EEG.  Please note that this recording is mainly in sleep.\n",
            "CLINICAL CORRELATION:  No seizures or epileptiform discharges were seen.\n",
            "\n",
            "\n",
            "\n",
            "\n",
            "---------------------\n",
            "This example was classified with label 1 but its actual label is 0.\n",
            "---\n",
            ".\n",
            "REASON FOR STUDY:  Episode of loss of consciousness.\n",
            "CLINICAL HISTORY:  A 49-year-old man who presents with a history of syncope versus seizures, fall at home with numbness in the hand and jaw, eyes rolled back, postictal confusion for 10 minutes.\n",
            "MEDICATIONS:  Gabapentin and clonidine.\n",
            "INTRODUCTION:  A routine EEG was performed using the standard 10-20 system of electrode placement with additional anterior temporal and single-lead EKG electrode.  The patient was recorded during wakefulness and sleep.  Activating procedures included hyperventilation and photic stimulation.\n",
            "DESCRIPTION OF THE RECORD:  The record opens to a posterior dominant rhythm that reaches that 8.5 Hz, which is reactive to eye opening.  There is some frontal central beta.  Activating procedures including hyperventilation and photic stimulation produced no abnormal discharges.\n",
            "ABNORMAL DISCHARGES:  None.\n",
            "HEART RATE:  78.\n",
            "SEIZURES:  None.\n",
            "IMPRESSION:  Normal awake and asleep EEG.\n",
            "CLINICAL CORRELATION:  This is a normal awake and asleep EEG.  No seizures or epileptiform discharges were seen.\n",
            "\n",
            "\n",
            "\n",
            "\n",
            "---------------------\n",
            "This example was classified with label 0 but its actual label is 1.\n",
            "---\n",
            "CLINICAL HISTORY: 36 year old right handed female with recurrent syncope July 18.\n",
            "\n",
            "MEDICATIONS: Metoprolol.\n",
            "\n",
            "INTRODUCTION: Digital video EEG was performed in lab using standard 10-20\n",
            "system of electrode placement with 1 channel of EKG. Hyperventilation is omitted, but\n",
            "photic stimulation is performed. This is an awake and asleep record.\n",
            "\n",
            "DESCRIPTION OF THE RECORD: In wakefulness there is a 10 Hz, 60 microvolt\n",
            "posterior dominant rhythm with a small amount of low voltage, frontocentral beta\n",
            "activity. Drowsiness is characterized by rhythmic central theta. The vertex waves\n",
            "appear in dreams. Mu activity is noted in wakefulness. Photic stimulation elicits scant\n",
            "driving.\n",
            "\n",
            "HR: 60 bpm with very frequent PVCs.\n",
            "\n",
            "IMPRESSION: Normal EEG but abnormal EKG.\n",
            "\n",
            "CLINICAL CORRELATION: Additional cardiac input may be appropriate. In addition,\n",
            "there is a technical note for this EEG. Electrode placement is in question given the\n",
            "amplitude pattern of the vertex waves and to meet appropriate technical quality, this\n",
            "study should be repeated.\n",
            "\n",
            "\n",
            "\n",
            "\n",
            "\n",
            "\n",
            "---------------------\n",
            "This example was classified with label 0 but its actual label is 1.\n",
            "---\n",
            "CLINICAL HISTORY: 42 year old right handed male, presents with a history of seizure disorder as a child. The last seizure was reported a week ago with 2 to 3 episodes of generalized tonoclonic seizure activity, loss of consciousness, and postictal confusion. Additionally, the patient states blurry vision along with pain and sound in his head which\n",
            "is hard to explain.\n",
            "\n",
            "MEDICATIONS: Dilantin, Phenobarbital, Klonopin\n",
            "\n",
            "INTRODUCTION: Digital video EEG was performed in lab using standard 10-20 system of electrode placement with 1channel EKG. Photic stimulation was performed. This is an awake and drowsy record.\n",
            "\n",
            "DESCRIPTION OF THE RECORD: This is a very drowsy patient but in wakefulness, there is an 8.7 Hz alpha rhythm, slowing to 7 Hz in drowsiness. The overall background is symmetric, but on one occasion there is a bit more rhythmic slowing on the left compared to the right in transition to sleep. Photic stimulation: The driving response is elicited which is a bit more vigorous on the right than the left although it is present bilaterally.\n",
            "\n",
            "HR: 66 bpm\n",
            "\n",
            "IMPRESSION: Abnormal EEG due to:\n",
            "1. Very modest background slowing.\n",
            "2. A burst of rhythmic slowing on the left.\n",
            "\n",
            "CLINICAL CORRELATION: The background slowing is nonspecific and could be due to this patient's medications or CNS problems. Although no epileptiform features were identified, correlation with imaging is suggested. If more information Is needed about this patient's epilepsy, an EEG monitoring session should be considered.\n",
            "\n",
            "\n",
            "\n",
            "\n",
            "\n",
            "---------------------\n",
            "This example was classified with label 1 but its actual label is 0.\n",
            "---\n",
            "CLINICAL HISTORY: 42 year old right handed male with a breakthrough and\n",
            "Dilantin toxicity. Active polysubstance abuse. Perinatal right frontal infarct.\n",
            "MEDICATIONS: Dilantin, Depakote\n",
            "INTRODUCTION: Digital video EEG was performed in lab using standard\n",
            "system of electrode placement with 1channel EKG. Photic stimulation was\n",
            "DESCRIPTION OF THE RECORD: In maximum wakefulness the\n",
            "somewhat slow with a 7.5 Hz alpha rhythm. In addition, there is a subtle\n",
            "with disruption of faster frequency activity in the right frontocentral regions\n",
            "points a beta asymmetry. There is some broadly contoured, sharply\n",
            "in the right frontotemporal and centrotemporal regions as the patient drifts\n",
            "POSTS are noted but are a little higher amplitude on the right compared to\n",
            "Vertex waves are somewhat asynchronous. Photic stimulation is performed\n",
            "patient is asleep. There is a suggestion of a driving response more so on the\n",
            "the right.\n",
            "HR: 90 bpm\n",
            "IMPRESSION: A normal EEG due to:\n",
            "1. Background disorganization and slowing.\n",
            "2. Subtle focal slowing from the right hemisphere, particularly frontocentral\n",
            "CLINICAL CORRELATION: This EEG supports a diffuse disturbance of\n",
            "function which may e due to postictal state or metabolic encephalopathy.\n",
            "features may be correlated with imaging. No definitive epileptiform features\n",
            "although there is some irregular sharply contoured slowing.\n",
            "\n",
            "\n",
            "\n",
            "\n",
            "\n",
            "---------------------\n",
            "This example was classified with label 0 but its actual label is 1.\n",
            "---\n",
            "CLINICAL HISTORY:  A 19-year-old male with epilepsy, seizure free for the last 4 years.  Previous EEGs.  He has hearing impairment and attention deficit disorder.  At age 15 he had 2.5 Hz spike and wave activity on an outside EEG, but by age 17 his EEG had become normal.\n",
            "MEDICATIONS:  None.\n",
            "INTRODUCTION:  Digital video EEG was performed in the lab using standard 10-20 system of electrode placement with 1 channel EKG.  Hyperventilation and photic stimulation were completed.  This is an awake and briefly drowsy record.\n",
            "DESCRIPTION OF THE RECORD:  The EEG demonstrates an appropriate pattern for a young adult of this age with a 10 Hz alpha rhythm reaching 90 mV.  The alpha rhythm is sometimes a little higher amplitude on the left compared to the right.\n",
            "Features of drowsiness include anterior spread of the alpha rhythm. Deeper stages of sleep were not sustained.  Posterior slow waves of youth were noted in wakefulness.  Although deeper stages of sleep were not achieved, just as the patient was becoming drowsy there seems to be some subtle underlying 4-5 Hz theta in the left occipital region.\n",
            "Hyperventilation produces an increase in amplitude of the background.\n",
            "Photic stimulation elicited a bilateral driving response.\n",
            "Heart:  96 BPM.\n",
            "IMPRESSION:  A very subtle abnormality was noted in this EEG just as the patient was becoming drowsy and included some focal theta in the left occipital parietal region.\n",
            "CLINICAL CORRELATION:  No epileptiform features were identified.  For this individual with a history of early developmental pathology and possible meningitis, these findings may relate to that premorbid process.  The findings were seen in a very\n",
            "restricted section of the EEG.  If there is any questions, additional EEG recording may be of value.\n",
            "\n",
            "\n",
            "\n",
            "\n",
            "---------------------\n",
            "This example was classified with label 0 but its actual label is 1.\n",
            "---\n",
            "REASON FOR STUDY:  Seizures.\n",
            "CLINICAL HISTORY:  This is a 33-year-old woman with a history of seizures and a right parietal lesion, possible dysplasia.  There were recurring seizures during sleep, lasting 1-2 minutes, the last one last Sunday.\n",
            "Here for differential and classification of intractable events.\n",
            "MEDICATIONS:  Lamictal, Topamax.\n",
            "INTRODUCTION:  EEG was performed using a standard 10-20 electrode placement system with additional anterior temporal and single lead EKG electrode.  The patient was recorded during wakefulness and sleep.  Activating procedures included photic stimulation.\n",
            "TECHNICAL DIFFICULTIES:  None.\n",
            "DESCRIPTION OF THE RECORD:  The record opens to a well defined posterior dominant rhythm that reaches 9-10 Hz, which is reactive to eye opening.  There is normal frontocentral beta.  Activating procedures included photic stimulation.  There were no abnormal discharges.  The patient recorded in wakefulness, stage 1, stage 2 sleep.\n",
            "ABNORMAL DISCHARGES:  Focal slow waves seen rarely at P4, at a frequency of 2-4 Hz, and a frequency of 20-40 mV.\n",
            "SEIZURES:  None.\n",
            "IMPRESSION:  Abnormal electroencephalogram due to right parietal focal slowing.\n",
            "CLINICAL CORRELATION:  This EEG reveals evidence of focal cerebral dysfunction in the right parietal region, which is nonspecific with regard to the etiology, but may be related to the known lesion/ dysplasia. No seizures or epileptiform discharges were seen.\n",
            "\n",
            "\n",
            "\n",
            "\n",
            "---------------------\n",
            "This example was classified with label 0 but its actual label is 1.\n",
            "---\n",
            "LENGTH OF RECORDING:  22 minutes.\n",
            "CLINICAL HISTORY:  The patient is a 49-year-old gentleman who had a seizure yesterday in the setting of severe tachycardia and desaturation to a pulse ox of 35.\n",
            "MEDICATIONS:  Ativan given yesterday, citalopram.\n",
            "INTRODUCTION:\n",
            "DESCRIPTION OF THE RECORD:  The patient is asleep throughout the majority of the EEG.  During very brief wakefulness, there is a posterior dominant rhythm of 8.5 Hz with anterior to posterior frequency amplitude gradient.  Throughout the majority of the study, the patient is asleep with vertex waves, sleep spindles, and POSTS seen.  Also, REM sleep is observed by the end of the recording.  Hyperventilation and photic stimulation were not performed.  No epileptiform discharges were observed.\n",
            "FINDINGS:  Primarily asleep study to REM sleep at the end of the recording.\n",
            "IMPRESSION:  This is an abnormal primarily asleep and briefly awake EEG due to excessive drowsiness and REM sleep captured on a 22-minute study.  These findings indicate excessive drowsiness.  In a routine EEG, a finding of REM sleep is abnormal.  In a proper clinical setting, further investigation to causes of excessive sleepiness may be considered.  The lack of epileptiform discharges in a routine EEG does not exclude the clinical diagnosis of epilepsy.\n",
            "\n",
            "\n",
            "\n",
            "\n",
            "---------------------\n",
            "This example was classified with label 1 but its actual label is 0.\n",
            "---\n",
            "CLINICAL HISTORY: 67 year old right-handed man with a syncopal event.\n",
            "MEDICATIONS: Lipitor, Hydrochlorothiazide, Zelia (?), Cozaar. Metoprolol\n",
            "IMPRESSION: Digital video EEG was performed in lab using standard 10-20\n",
            "system of electrode placement with 1 channel of EKG. Photic simulation was\n",
            "performed. This is an awake through stage II sleep.\n",
            "DESCRIPTION OF THE RECORD: In wakefulness, there is an 8.5 Hz alpha rhythm.\n",
            "There i s occasional right or left temporal theta but more so on the left. The temporal\n",
            "theta on the left is at times sharply contoured. Vertex waves are seen in stage I sleep\n",
            "with spindles in stage II. Photic stimulation does not activate the record.\n",
            "HR: 60 bpm\n",
            "IMPRESSION: Mildly abnormal EEG due to: .\n",
            "1. . Occasional temporal focal slowing with theta/delta left greater than right greater\n",
            "than anticipated for age.\n",
            "CLINICAL CORRELATION: These findings are nonspecific and can be seen in\n",
            "underlying cerebrovascular disease. No epileptiform features were observed. If\n",
            "epilepsy is an important consideration, a repeat study capturing either the patient's\n",
            "clinical events or additional sleep can be useful.\n",
            "\n",
            "\n",
            "\n",
            "---------------------\n",
            "This example was classified with label 1 but its actual label is 0.\n",
            "---\n",
            "CLINICAL HISTORY:  This is a 39-year-old male with first ever seizure 3 weeks ago, not otherwise described.\n",
            "MEDICATIONS:  Percocet.\n",
            "INTRODUCTION:  Digital video EEG is performed in the lab using standard 10-20 system of electrode placement with one channel of EKG.  Hyperventilation and photic stimulation were completed.  This is an awake and drowsy record.\n",
            "DESCRIPTION OF THE RECORD:  In wakefulness, this is a relatively low-voltage EEG with 10 Hz alpha rhythm.  The patient transitions in and out of wakefulness and sleep with prominent TOSTS and then vertex waves and spindles in stage II sleep.\n",
            "Photic stimulation was performed while the patient was drifting in and out of sleep and did not significantly activate the record.\n",
            "Hyperventilation produced some increase in the amplitude of the background.\n",
            "Heart rate 96 beats per minute.\n",
            "IMPRESSION:  Electroencephalogram within normal limits.\n",
            "CLINICAL CORRELATION:  This is a somewhat technically challenging, but normal EEG.\n",
            "No epileptiform features were identified.  Sweat or other artifact may have contributed to the technical issues identified in this record.\n",
            "\n",
            "\n",
            "\n",
            "\n",
            "---------------------\n",
            "This example was classified with label 0 but its actual label is 1.\n",
            "---\n",
            "\n",
            "\n",
            "CLINICAL HISTORY: 67 year old male with past medical history of refractory complex\n",
            "partial seizures. Also, D\\ff and hypertension.\n",
            "\n",
            "MEDICATIONS: Phenobarbital, Finasteride, Avodart, Vesicare, Metoprolol, Nifedipine,\n",
            "Furosemide, Namenda, Warfarin\n",
            "\n",
            "INTRODUCTION: Digital video EEG was performed in lab using standard.\n",
            "10-20 system of electrode placement with 1 channel of EKG. Photic stimulation was\n",
            "performed. Hyperventilation was not performed.\n",
            "\n",
            "DESCRIPTION OF THE RECORD: During wakefulness, this EEG is disorganized with\n",
            "a little bit of theta. The background is alpha and seen is hypersynchronous with mixed\n",
            "slowing. In drowsiness, there is no focal slowing. In photic stimulation there is a\n",
            "driving response.\n",
            "\n",
            "HR: 66bpm\n",
            "\n",
            "IMPRESSION: This EEG is mildly abnormal due to:\n",
            "1. There is mild degree of disorganization.\n",
            "\n",
            "CLINICAL CORRELATION: There is no epileptiform features seen today in this EEG\n",
            "which is in contrast to prior EEG which showed focal slowing and sharp waves.\n",
            "\n",
            "\n",
            "\n",
            "\n",
            "\n",
            "---------------------\n",
            "This example was classified with label 0 but its actual label is 1.\n",
            "---\n",
            "CLINICAL HISTORY: 70 year old right handed female with history of complex partial seizures. Last seizure was 10/2010. This is a follow-up EEG.\n",
            "MEDICATIONS: Tegretol, Phenobarbital, Diltiazem, Atenolol\n",
            "INTRODUCTION: Digital video EEG was performed in lab using standard 10-20 system of electrode placement with 1 channel of EKG. Hyperventilation and photic stimulation are performed. The patient reports that she is currently seizure free. She has a hair weave which requires changes in the electrode placement.\n",
            "DESCRIPTION OF THE RECORD: The activity from the left hemisphere includes a well defined alpha rhythm of 8.5 hertz with a small amount of low voltage, frontocentral beta activity. There is some head rocking artifact picked up on the left more so than the right. The activity from the right is globally lower voltage and it is difficult to identify an alpha rhythm on the right.\n",
            "HR: 60 bpm\n",
            "IMPRESSION: Abnormal EEG due to:\n",
            "1. Attenuation of alpha rhythm on the right.\n",
            "2. Disruption of rhythmic activity on the right.\n",
            "\n",
            "CLINICAL CORRELATION: These findings may be correlated with this patient's occipital and parietal ischemic pathology. No epileptiform features were identified today and this EEG is vastly improved compared to previous studies.\n",
            "\n",
            "\n",
            "\n",
            "\n",
            "---------------------\n",
            "This example was classified with label 1 but its actual label is 0.\n",
            "---\n",
            "REASON FOR STUDY:  Right facial/right sided weakness, rule out seizure.\n",
            "CLINICAL HISTORY:  This is a 71-year-old woman with acute onset of right facial and right-sided weakness along with slurred speech and a past medical history of stroke, diabetes, hypertension and asthma.\n",
            "MEDICATIONS:  Insulin and gabapentin.\n",
            "INTRODUCTION:  A routine EEG was performed using the standard 10-20 electrode placement system with additional anterior temporal and single-lead EKG electrodes.  The patient was recorded during wakefulness, mainly in sleep.  Activating procedures included photic stimulation.\n",
            "DESCRIPTION OF THE RECORD:  The record is mainly recorded in sleep but in the limited wakefulness there appears to be a posterior dominant rhythm that reaches 9 Hz.  There is normal frontocentral beta during this limited wakefulness.  Photic stimulation produced no abnormal discharges.  The patient is recorded again mainly in sleep with stage I and II recorded.\n",
            "ABNORMAL DISCHARGES:  None.\n",
            "SEIZURES:  None.\n",
            "HEART RATE:  66.\n",
            "IMPRESSION:  Normal electroencephalogram in limited wakefulness and mainly in sleep.\n",
            "CLINICAL CORRELATION:  This EEG with limited wakefulness and mainly asleep reveals no clear abnormalities.  No seizures or epileptiform discharges were seen.\n",
            "\n",
            "\n",
            "\n",
            "\n",
            "---------------------\n",
            "This example was classified with label 0 but its actual label is 1.\n",
            "---\n",
            "CLINICAL HISTORY:  53 year old woman with left temporal abnormality and a history of epilepsy, depression, and anxiety here for evaluation of seizures.\n",
            "MEDICATIONS:  Lamictal, Neurontin, Senna, Ativan.\n",
            "REASON FOR STUDY:  Seizures.\n",
            "INTRODUCTION:  Digital video EEG was performed using standard 10-20 electrode placement system with additional anterior temporal and single lead EKG electrode.  The patient was recorded in wakefulness and sleep.  Activating procedures, including photic stimulation, and hyperventilation were performed.\n",
            "TECHNICAL DIFFICULTIES:  None.\n",
            "DESCRIPTION OF THE RECORD:  The record opens to a well defined posterior dominant rhythm of 9-10 Hz, which is reactive to eye opening.  The patient is recorded in wakefulness and sleep, stage I and stage II.  Activating procedures, including hyperventilation and photic stimulation, produce no abnormal discharges.\n",
            "ABNORMAL DISCHARGES:  Focal slow waves seen rarely at F7/T3 at 2-4 Hz at an amplitude of 20-60 mV.\n",
            "SEIZURES:  None.\n",
            "IMPRESSION:  Abnormal EEG due to:\n",
            "Left anterior temporal focal slowing.\n",
            "CLINICAL CORRELATION:  This EEG reveals evidence of mild left anterior temporal focal cerebral dysfunction, which is nonspecific in regards to etiology.  No seizures or epileptiform discharges were seen.\n",
            "INTRODUCTION:  Digital video long term video monitoring EEG was performed for 24 hours using standard 10-20 electrode placement system with additional anterior temporal and single lead EKG electrode.  The patient was recorded in wakefulness and sleep.  Activating procedures were not performed.  Continuous spike detection software was used to review the EEG, along with seizure detection software, patient's alarms, and nurses noted events.\n",
            "TECHNICAL DIFFICULTIES:  None.\n",
            "DESCRIPTION OF THE RECORD:  The record opens to a well defined posterior dominant rhythm at 9-10 Hz with normal frontal central beta.  No activating procedure were performed.  The patient was recorded in stage I, stage II, as well as sleep.\n",
            "ABNORMAL DISCHARGES  None.\n",
            "SEIZURES:  None.\n",
            "EVENT:  The patient pressed the alarm on 3 occasions as a test, but no actual events occurred.\n",
            "INTRODUCTION:  Digital video long-term EEG was performed for 24 hours from 05/15/2012 to 05/16/2012 using the standard 10-20 electrode placement system with additional anterior temporal and single-lead EKG electrode.  The patient was recorded in wakefulness and sleep.  Activating procedures were not performed.  Continuous spike detection software as well as seizure detection software was used to review the EEG in addition to patient alarms and nurse's events.\n",
            "TECHNICAL DIFFICULTIES:  None.\n",
            "DESCRIPTION OF THE RECORD:  The record opens to a well-defined posterior dominant rhythm which reaches 9-10 Hz which is reactive to eye opening.  The patient is recorded in wakefulness and stage 1, stage 2 and stage 3 sleep.  Activating procedures were not performed.\n",
            "ABNORMAL DISCHARGES:  None.\n",
            "SEIZURES:  This is day 2 of recording.  There were no seizures or patient events noted.\n",
            "Clinical correlation and impression will be dictated at the end of the whole report.\n",
            "\n",
            "\n",
            "\n",
            "\n",
            "---------------------\n",
            "This example was classified with label 0 but its actual label is 1.\n",
            "---\n",
            "CLINICAL HISTORY: 28 year old right handed female with refractory epilepsy, status post temporal lobectomy, recurrent seizures and migraine headaches. Current seizures are characterized by crying spells.\n",
            "\n",
            "MEDICATIONS: Lamictal, Lyrica,\n",
            "INTRODUCTION: Digital video EEG was performed In lab using standard 10-20 system of electrode placement with 1 channel of EKG. Hyperventilation and photic simulation are performed. This is an awake and drowsy record.\n",
            "DESCRIPTION OF THE RECORD: In wakefulness there is a 10 Hz posterior dominant rhythm with a small amount of low voltage, fed through central beta activity. Nearly continuous focal slowing is observed from the left temporal region that is characterized by the presence of theta frequency activity as well as some description of faster frequency activity. Features of sleep include an increase in background slowing. Vertex waves are observed in stage I sleep. Hyperventilation does not significantly activate the record nor does photic stimulation.\n",
            "HR: 78 bpm\n",
            "IMPRESSION: Abnormal EEG due to:\n",
            "1. Left temporal focal slowing.\n",
            "\n",
            "CLINICAL CORRELATION: No epileptiform features were observed today. The focal slowing Is an anticipated finding following craniotomy.\n",
            "\n",
            "\n",
            "\n",
            "\n",
            "\n",
            "---------------------\n",
            "This example was classified with label 0 but its actual label is 1.\n",
            "---\n",
            "CLINICAL HISTORY:  30 year old right handed woman with left temporal lobe epilepsy, status post temporal lobectomy, recent problems with medications and break through seizures.  The patient describes seizures as crying spells.  To her physician she describes these as spells where she knew what was going on, but had difficulty speaking.\n",
            "INTRODUCTION:  Digital video EEG was performed in lab using standard 10-20 system of electrode placement with 1 channel EKG.   This is an awake though stage II sleep record.  Photic stimulation was completed.\n",
            "DESCRIPTION OF THE RECORD:  In wakefulness, there is an 8.5 Hz rhythm with a small amount of low voltage, frontal central beta activity.  Prominent breech rhythm is noted. There is an asymmetry noted with focal slowing in the left temporal region and disruption of faster frequency activity.  Wicket activity is noted. Stage II sleep includes vertex waves, K-complexes, POSTS, and spindles. Hyperventilation accentuates the focal slowing. Photic stimulation is performed while the patient is drifting off to sleep.  It does not significantly activate the record.\n",
            "HR:    78 bpm\n",
            "IMPRESSION:  Abnormal EEG due to:\n",
            "Left temporal focal slowing.\n",
            "CLINICAL CORRELATION:  No epileptiform features were identified, although wicket activity and a breech rhythm were noted.  If further characterization for epileptiform activity is needed, EEG monitoring may be required.\n",
            "\n",
            "\n",
            "\n",
            "\n",
            "---------------------\n",
            "This example was classified with label 1 but its actual label is 0.\n",
            "---\n",
            "CLINICAL HISTORY: 35 year old man with hypertension, pericarditis, alcohol abuse, HIV, lupus who presents with seizures.\n",
            "MEDICATIONS:  Dilantin, Ativan, Protonix, Lovenox.\n",
            "INTRODUCTION:  Digital video EEG was performed using standard 10-20 electrode placement system with an additional anterior temporal and single lead EKG electrode.  The patient was recorded during wakefulness only.  Activating procedures are not performed except minor photic stimulation was performed for a couple of seconds.\n",
            "TECHNICAL DIFFICULTIES:  None.\n",
            "DESCRIPTION OF THE RECORD:  The record opens to a well-defined posterior dominant rhythm that reaches 9-10 Hz which is reactive to eye opening.  The patient is recorded mainly during wakefulness.  No activating procedures were performed.\n",
            "ABNORMAL DISCHARGES:  None.\n",
            "EPISODES:  During the recording, the patient had 2 episodes where at the beginning he would start stretching his arm and becoming tense then his body started trembling slowly in his hands and his feet and developing whole body trembling lasting for about 1 minute 15 seconds, not being able to follow commands during the episode and not recalling the code word.  Afterward, he woke up and asked what happened and he was crying.  During this first episode, there was no clear EEG abnormality or changes and after the event there was a clear posterior dominant rhythm that could be changed.  During the event, there were just multiple artifacts.  A second event occurred minutes later while photic stimulation was started.  He started trembling slowly and the whole body started shaking irregularly and moving toward the left side.  This episode lasted about 2 minutes and again afterward the patient remained unresponsive for some time.  During the entire episode, the EEG did not reveal any epileptiform activity or any EEG correlate.  There was a lot of muscle artifact and after the event there was a clear normal posterior dominant rhythm seen during the recording.  Two episodes of diffuse body shaking with no unresponsiveness and no EEG correlate.\n",
            "IMPRESSION:  Normal awake EEG.\n",
            "CLINICAL CORRELATION:   The 2 episodes with diffuse body shaking had no EEG correlate which is consistent with the diagnosis of a nonepileptic event.  No seizures or epileptiform activity were seen during the recording.\n",
            "\n",
            "\n",
            "\n",
            "\n",
            "---------------------\n",
            "This example was classified with label 1 but its actual label is 0.\n",
            "---\n",
            "TYPE OF STUDY:  Outpatient EEG.\n",
            "CLINICAL HISTORY:  A 37-year-old woman with epilepsy since birth.  Birth and developmental history unknown, but strong family history of epilepsy on her father's side.  Patient also has severe migraines.  She describes her last seizure as screaming, crying, and epistaxis.  Typically, seizures not so severe.\n",
            "MEDICATIONS:  Dilantin, phenobarbital, Zoloft, Prilosec, Risperdal, Spiriva, albuterol.\n",
            "INTRODUCTION:  Digital video EEG was performed in the lab using standard 10-20 system of electrode placement with one channel of EKG.  Hyperventilation and photic stimulation were completed.  This is an awake and a sleep record.\n",
            "DESCRIPTION OF THE RECORD:  In wakefulness, the background EEG is well organized with 9.5 Hz, 40 microvolt posterior dominant rhythm.  The alpha rhythm reaches 10 Hz, 70 microvolts with occasional posterior slow waves of youth.  Features of drowsiness include attenuation of the alpha rhythm.  Hyperventilation does not significantly activate the record.  Photic stimulation elicits a driving response.  Heart rate 72 BPM.\n",
            "IMPRESSION:  Normal EEG.\n",
            "CLINICAL CORRELATION:  No epileptiform features were identified in this record.  In this individual with lifelong, refractory epilepsy, a follow-up study capturing deeper stages of sleep is suggested.\n",
            "\n",
            "\n",
            "\n",
            "\n",
            "---------------------\n",
            "This example was classified with label 0 but its actual label is 1.\n",
            "---\n",
            "CLINICAL HISTORY:  A 64-year-old male found with an empty bottle of Januvia, and glucose of 99.  Given Narcan, Ativan and moxifloxacin.  He has a history of diabetes and neuropathy.  Previous EEG in 2003 is not available.\n",
            "MEDICATIONS:  Ativan, Narcan, others.\n",
            "INTRODUCTION:  Digital video EEG was performed at the bedside in the ICU using standard 10-20 system of electrode placement with one channel of EKG.  The patient was poorly responsive.\n",
            "DESCRIPTION OF THE RECORD:  The background EEG demonstrates a mixed frequency background with spontaneous arousals and generous beta.\n",
            "The patient drifts off to sleep and there is an increase in background slowing.  Occasional FIRDA was noted.\n",
            "IMPRESSION:  This is an abnormal EEG due to:  Generalized background slowing.\n",
            "CLINICAL CORRELATION:  The generous beta described above may be due to this patient's medications.  If epilepsy is an important consideration a follow up study when the patient is out of the ICU may be helpful.\n",
            "\n",
            "\n",
            "\n",
            "\n",
            "---------------------\n",
            "This example was classified with label 1 but its actual label is 0.\n",
            "---\n",
            "CLINICAL HISTORY:  23 year old man with history of seizures since age 7, here for evaluation of seizures.\n",
            "MEDICATIONS:  Dilantin and Depakote.\n",
            "REASON FOR STUDY:  Seizures.\n",
            "INTRODUCTION:  Digital video routine EEG was performed using the standard 10-20 electrode placement system with additional anterior temporal electrode.  The patient was recorded during wakefulness and sleep.  Activating procedures included hyperventilation and photic stimulation.\n",
            "DESCRIPTION OF THE RECORD:  The record opens to a nicely formed posterior dominant rhythm at 9-10 Hz which is reactive to eye opening.  There is a normal amount of frontocentral beta.  The patient is recorded during wakefulness and stage I sleep.  Activating procedures produced no abnormal discharges.\n",
            "ABNORMAL DISCHARGES:  None.\n",
            "SEIZURES:  None.\n",
            "IMPRESSION:  Normal awake and asleep EEG.\n",
            "CLINICAL CORRELATION:  No seizures or epileptiform discharges were seen.\n",
            "\n",
            "\n",
            "\n",
            "\n",
            "---------------------\n",
            "This example was classified with label 0 but its actual label is 1.\n",
            "---\n",
            "TYPE OF STUDY:  Portable EEG.\n",
            "DIAGNOSIS:  Rule out seizures.\n",
            "CLINICAL HISTORY:  This is a 49-year-old male with a history of seizures and hypertension presents with seizure-like activities described as acting weird, staring, confusion, and EMS noted generalized tonic-clonic seizures.\n",
            "MEDICATIONS:  The patient's medications include phenobarbital and Dilantin.\n",
            "INTRODUCTION:  A digital EEG was performed in the lab using the standard international 10/20 system of electrode placement in addition to 1-channel of EKG monitoring.  Hyperventilation and photic stimulation were not performed.  This tracing captures wakefulness through a stage II sleep.\n",
            "DESCRIPTION OF THE RECORD:  In the most alert state, the posterior dominant rhythm was 8.5-9 Hz in frequency and 30-35 microvolts in amplitude seen in the occipital region, which attenuates with eye opening.  There is 6-7 Hz diffuse theta activity seen during wakefulness.  There is presence of low amplitude diffuse beta activity, which is distributed symmetrically.  Stage I sleep is characterized by disappearance of the alpha rhythm and slowing of the background activity and absence of muscle and eye blink artifact as well as the presence of the vertex sharp waves.  Stage II sleep was captured characterized by the presence of K complexes and sleep spindles. Heart rate was 90-100 beats per minute and regular.\n",
            "IMPRESSION:  This is an abnormal EEG recording due to excess theta activity during wakefulness.\n",
            "CLINICAL CORRELATION:  The above findings could be due to toxic metabolic hypoxic or infectious encephalopathy, alternatively it could be due to the effect of sedating medications or bilateral cerebral dysfunction or degenerative brain disease.  The generalized beta activity could be due to medication effect including phenobarbital or hyperthyroidism.  Clinical correlation is recommended.  No epileptiform discharges abnormalities or seizures were captured during this record.  If clinically indicated, a repeat sleep deprived EEG or continuous bedside EEG monitoring may be helpful.  The absence of epileptiform activities or seizures does not rule out the diagnosis of epilepsy or intermittent seizures.\n",
            "\n",
            "\n",
            "\n",
            "\n",
            "---------------------\n",
            "This example was classified with label 0 but its actual label is 1.\n",
            "---\n",
            "INTRODUCTION:\n",
            "PROCEDURE\n",
            "A routine EEG was performed using the 10/20 standard electrode placement system along with anterior temporal and EKG\n",
            "electrodes. Wakefulness and stage 1 sleep were recorded. Activation procedures with photic stimulation were performed.\n",
            "MEDICATIONS:\n",
            "None.\n",
            "TECHNICAL DIFFICULTIES:\n",
            "None.\n",
            "HISTORY:\n",
            "A 26-year-old woman with complaints of dizziness with lower extremity weakness in March 2011 and an episode of loss of\n",
            "consciousness and fall in August of 2011 diagnosed with vertigo and inner ear infection.\n",
            "DESCRIPTION OF RECORD:\n",
            "The EEG opens to a posterior dominant rhythm at 9 to 10 Hz with an amplitude of 20 to 70 microvolts. Normal frontal\n",
            "central beta is seen. Sleep is characterized by stage 1. Alleviation procedures included photic stimulation, which revealed\n",
            "no abnormal discharges. No hyperventilation was performed.\n",
            "ABNORMAL DISCHARGES:\n",
            "None.\n",
            "SEIZURES:\n",
            "None.\n",
            "IMPRESSION:\n",
            "Abnormal EEG awake and sleep.\n",
            "CLINICAL CORRELATION:\n",
            "This is a normal EEG. No seizures or epileptiform activity were seen. Please note that a normal EEG does not exclude\n",
            "the diagnosis of epilepsy. Further recording with deeper stages of sleep and prolonged recording may be helpful in\n",
            "eliciting epileptiform discharges.\n",
            "\n",
            "\n",
            "\n",
            "\n",
            "\n",
            "---------------------\n",
            "This example was classified with label 1 but its actual label is 0.\n",
            "---\n",
            "EEG length is 25 minutes.\n",
            "CLINICAL HISTORY: 73 y/o with PMH of seizures, Hepatitis C, dementia\n",
            "MEDICATIONS:  Dilantin, Aricept and others.\n",
            "INTRODUCTION:  The recording was performed according to the standard 10-20 system with additional T1 and T2 electrodes and a single EKG lead.  Hyperventilation was not performed.  Stepped photic stimulation was performed.\n",
            "HISTORY:  The patient is a 75-year-old man with past medical history of seizures, hepatitis C and dementia.\n",
            "DESCRIPTION OF THE RECORD:  The posterior dominant rhythm consists of a well-formed and modulated 10-11 Hz, low-amplitude alpha that attenuates with eye opening.  There is an anterior to posterior frequency amplitude gradient with faster frequencies at lower amplitudes anteriorly.\n",
            "During drowsiness, POSTS (positive occipital sharp transients of sleep) and symmetrical vertex waves are captured.\n",
            "Hyperventilation was not performed.\n",
            "Stepped photic stimulation results in no significant change in the background.\n",
            "A single EKG demonstrated a heart rate with fewer than 60 beats a minute during drowsiness.\n",
            "FINDINGS:\n",
            "No stage II sleep.\n",
            "No epileptiform discharges.\n",
            "Rare sinus bradycardia.\n",
            "IMPRESSION:  This is a normal awake and drowsy 25-minute EEG.  No epileptiform discharges were captured, however stage II sleep was not recorded. If clinical indication for seizures persists, a repeat study with stage II sleep may be of benefit.\n",
            "\n",
            "\n",
            "\n",
            "\n",
            "---------------------\n",
            "This example was classified with label 0 but its actual label is 1.\n",
            "---\n",
            "CLINICAL HISTORY:  62 year old male, status post cardiac arrest, now with myoclonus.\n",
            "MEDICATIONS:  Ativan, Fentanyl, Valproate Acid, Vecuronium.\n",
            "REASON FOR STUDY:  Status post cardiac arrest, now with myoclonus.\n",
            "INTRODUCTION:  Digital video EEG was performed using standard 10-20 electrode placement system with additional anterior temporal and single lead EKG electrode.  The patient was recorded during unresponsiveness and comatose.  Activating procedures were not performed.\n",
            "TECHNICAL DIFFICULTIES:  Some artifact.\n",
            "DESCRIPTION OF THE RECORD:  The record opens to a diffusely attenuated, or almost completely suppressed background, with no normal posterior dominant rhythm or frontal central beta.  There is no normal sleep architecture.  No activating procedures were performed.\n",
            "ABNORMAL DISCHARGES:\n",
            "During the recording there is intermittent bursts of anterior predominant spike and wave, as well as polyspike and wave appearing at 5 Hz in bursts that may last up to 20-30 seconds.  They appear to be mainly symmetric, but with some frontal predominance at times.  During these bursts the patient is seen on video to be having regular diffuse marked jerking of the truncal muscles associated with each one of these bursts.  This is most consistent with myoclonus.\n",
            "Generalized attenuation of background.\n",
            "SEIZURES:  See myoclonus described above.\n",
            "IMPRESSION:  Abnormal EEG due to:\n",
            "myoclonus and diffuse suppression of the EEG.\n",
            "CLINICAL CORRELATION:  This EEG reveals evidence of diffuse cortical dysfunction and irritability, which is consistent with the known hypoxic injury.  However, it is possible that the intermixed diffuse attenuation may be at least in part due to medication effect.  Lastly, the myoclonus seen after a hypoxic injury suggests a poor prognosis for significant neurological recovery.\n",
            "\n",
            "\n",
            "\n",
            "\n",
            "---------------------\n",
            "This example was classified with label 0 but its actual label is 1.\n",
            "---\n",
            "CLINICAL HISTORY:  76 year old left handed man with a history of hypertension, diabetes, and pacemaker who presents with a history of acute onset of left-sided weakness and numbness and confusion, pre-op for right CEA.\n",
            "MEDICATIONS:  Ancef, Heparin.\n",
            "REASON FOR STUDY:  Confusion.\n",
            "INTRODUCTION:  Digital video EEG was performed in lab using standard 10-20 electrode placement system with additional anterior temporal and single-lead EKG electrodes.  The patient was recorded in stage I and stage II sleep.  Activating procedures including photic stimulation and hyperventilation were performed.\n",
            "TECHNICAL DIFFICULTIES:  None.\n",
            "DESCRIPTION OF THE RECORD:  The record opens to a well-defined posterior dominant rhythm of 9 Hz, which is reactive to eye opening.  There is a normal amount of frontocentral beta.  Sleep is characterized by stage I and stage II.  Activating procedures including photic stimulation present no abnormal discharges.\n",
            "ABNORMAL DISCHARGES:   Focal slow waves at F8/T4, occurring at 2 to 4 Hz and an amplitude of 20 to 40 microvolts, intermittently.\n",
            "SEIZURES:   None.\n",
            "IMPRESSION:  Abnormal EEG due to:\n",
            "Intermittent right anterior temporal focal slow waves.\n",
            "CLINICAL CORRELATION:  This EEG reveals evidence of focal cerebral dysfunction in the right anterior temporal region, which is nonspecific in regard to etiology.  No seizures or epileptiform discharges were seen.\n",
            "\n",
            "\n",
            "\n",
            "\n",
            "---------------------\n",
            "Accuracy = 98.697 percent (2954 correct predictions out of 2993). 39 misclassified.\n"
          ],
          "name": "stdout"
        }
      ]
    },
    {
      "cell_type": "markdown",
      "metadata": {
        "id": "NHuAF8hYfP5Z"
      },
      "source": [
        "### Configure the dataset for performance\n",
        "\n",
        "These are two important methods you should use when loading data to make sure that I/O does not become blocking.\n",
        "\n",
        "`.cache()` keeps data in memory after it's loaded off disk. This will ensure the dataset does not become a bottleneck while training your model. If your dataset is too large to fit into memory, you can also use this method to create a performant on-disk cache, which is more efficient to read than many small files.\n",
        "\n",
        "`.prefetch()` overlaps data preprocessing and model execution while training. \n",
        "\n",
        "You can learn more about both methods, as well as how to cache data to disk in the [data performance guide](https://www.tensorflow.org/guide/data_performance)."
      ]
    },
    {
      "cell_type": "code",
      "metadata": {
        "id": "PabA9DFIfSz7"
      },
      "source": [
        "AUTOTUNE = tf.data.AUTOTUNE\n",
        "\n",
        "def configure_dataset(dataset):\n",
        "  return dataset.cache().prefetch(buffer_size=AUTOTUNE)"
      ],
      "execution_count": null,
      "outputs": []
    },
    {
      "cell_type": "code",
      "metadata": {
        "id": "J8GcJLvb3JH0"
      },
      "source": [
        "binary_train_ds = configure_dataset(binary_train_ds)\n",
        "binary_val_ds = configure_dataset(binary_val_ds)\n",
        "binary_test_ds = configure_dataset(binary_test_ds)\n",
        "\n",
        "int_train_ds = configure_dataset(int_train_ds)\n",
        "int_val_ds = configure_dataset(int_val_ds)\n",
        "int_test_ds = configure_dataset(int_test_ds)"
      ],
      "execution_count": null,
      "outputs": []
    },
    {
      "cell_type": "markdown",
      "metadata": {
        "id": "NYGb7z_bfpGm"
      },
      "source": [
        "### Train the model\n",
        "It's time to create our neural network. For the `binary` vectorized data, train a simple bag-of-words linear model:"
      ]
    },
    {
      "cell_type": "code",
      "metadata": {
        "id": "2q8iAU-VMzaN",
        "colab": {
          "base_uri": "https://localhost:8080/"
        },
        "outputId": "d804db2e-87a7-49fc-8913-a9cc2dbc2f2e"
      },
      "source": [
        "binary_model = tf.keras.Sequential([layers.Dense(2)])\n",
        "binary_model.compile(\n",
        "    loss=losses.SparseCategoricalCrossentropy(from_logits=True),\n",
        "    optimizer='adam',\n",
        "    metrics=['accuracy'])\n",
        "history = binary_model.fit(\n",
        "    binary_train_ds, validation_data=binary_val_ds, epochs=10)"
      ],
      "execution_count": null,
      "outputs": [
        {
          "output_type": "stream",
          "text": [
            "Epoch 1/10\n",
            "65/65 [==============================] - 2s 23ms/step - loss: 0.3885 - accuracy: 0.9087 - val_loss: 0.2365 - val_accuracy: 0.9420\n",
            "Epoch 2/10\n",
            "65/65 [==============================] - 0s 4ms/step - loss: 0.1840 - accuracy: 0.9663 - val_loss: 0.1681 - val_accuracy: 0.9621\n",
            "Epoch 3/10\n",
            "65/65 [==============================] - 0s 3ms/step - loss: 0.1317 - accuracy: 0.9755 - val_loss: 0.1399 - val_accuracy: 0.9688\n",
            "Epoch 4/10\n",
            "65/65 [==============================] - 0s 3ms/step - loss: 0.1043 - accuracy: 0.9817 - val_loss: 0.1238 - val_accuracy: 0.9710\n",
            "Epoch 5/10\n",
            "65/65 [==============================] - 0s 3ms/step - loss: 0.0867 - accuracy: 0.9846 - val_loss: 0.1131 - val_accuracy: 0.9732\n",
            "Epoch 6/10\n",
            "65/65 [==============================] - 0s 3ms/step - loss: 0.0741 - accuracy: 0.9885 - val_loss: 0.1055 - val_accuracy: 0.9754\n",
            "Epoch 7/10\n",
            "65/65 [==============================] - 0s 4ms/step - loss: 0.0645 - accuracy: 0.9899 - val_loss: 0.0997 - val_accuracy: 0.9754\n",
            "Epoch 8/10\n",
            "65/65 [==============================] - 0s 3ms/step - loss: 0.0569 - accuracy: 0.9904 - val_loss: 0.0952 - val_accuracy: 0.9754\n",
            "Epoch 9/10\n",
            "65/65 [==============================] - 0s 3ms/step - loss: 0.0506 - accuracy: 0.9909 - val_loss: 0.0915 - val_accuracy: 0.9754\n",
            "Epoch 10/10\n",
            "65/65 [==============================] - 0s 3ms/step - loss: 0.0454 - accuracy: 0.9923 - val_loss: 0.0884 - val_accuracy: 0.9754\n"
          ],
          "name": "stdout"
        }
      ]
    },
    {
      "cell_type": "markdown",
      "metadata": {
        "id": "EwidD-SwNIkz"
      },
      "source": [
        "Next, you will use the `int` vectorized layer to build a 1D ConvNet."
      ]
    },
    {
      "cell_type": "code",
      "metadata": {
        "id": "5ztw2XH_LbVz"
      },
      "source": [
        "def create_model(vocab_size, num_labels):\n",
        "  model = tf.keras.Sequential([\n",
        "      layers.Embedding(vocab_size, 64, mask_zero=True),\n",
        "      layers.Conv1D(64, 5, padding=\"valid\", activation=\"relu\", strides=2),\n",
        "      layers.GlobalMaxPooling1D(),\n",
        "      layers.Dense(num_labels)\n",
        "  ])\n",
        "  return model"
      ],
      "execution_count": null,
      "outputs": []
    },
    {
      "cell_type": "code",
      "metadata": {
        "id": "s9rG1cFRL31Z",
        "colab": {
          "base_uri": "https://localhost:8080/"
        },
        "outputId": "078fc768-18ce-4a54-a89f-94e69b36a061"
      },
      "source": [
        "# vocab_size is VOCAB_SIZE + 1 since 0 is used additionally for padding.\n",
        "int_model = create_model(vocab_size=VOCAB_SIZE + 1, num_labels=2)\n",
        "int_model.compile(\n",
        "    loss=losses.SparseCategoricalCrossentropy(from_logits=True),\n",
        "    optimizer='adam',\n",
        "    metrics=['accuracy'])\n",
        "history = int_model.fit(int_train_ds, validation_data=int_val_ds, epochs=5)"
      ],
      "execution_count": null,
      "outputs": [
        {
          "output_type": "stream",
          "text": [
            "Epoch 1/5\n",
            "65/65 [==============================] - 3s 46ms/step - loss: 0.5051 - accuracy: 0.8841 - val_loss: 0.2021 - val_accuracy: 0.9777\n",
            "Epoch 2/5\n",
            "65/65 [==============================] - 2s 26ms/step - loss: 0.1038 - accuracy: 0.9812 - val_loss: 0.0739 - val_accuracy: 0.9821\n",
            "Epoch 3/5\n",
            "65/65 [==============================] - 2s 26ms/step - loss: 0.0648 - accuracy: 0.9865 - val_loss: 0.0707 - val_accuracy: 0.9821\n",
            "Epoch 4/5\n",
            "65/65 [==============================] - 2s 26ms/step - loss: 0.0537 - accuracy: 0.9880 - val_loss: 0.0691 - val_accuracy: 0.9844\n",
            "Epoch 5/5\n",
            "65/65 [==============================] - 2s 27ms/step - loss: 0.0446 - accuracy: 0.9894 - val_loss: 0.0681 - val_accuracy: 0.9866\n"
          ],
          "name": "stdout"
        }
      ]
    },
    {
      "cell_type": "markdown",
      "metadata": {
        "id": "x3J9Eeuv97zE"
      },
      "source": [
        "Compare the two models:"
      ]
    },
    {
      "cell_type": "code",
      "metadata": {
        "id": "N8ViDXw99v_u",
        "colab": {
          "base_uri": "https://localhost:8080/"
        },
        "outputId": "38846b6a-9bd6-4d90-b0a7-5f8bef1113ad"
      },
      "source": [
        "print(\"Linear model on binary vectorized data:\")\n",
        "print(binary_model.summary())"
      ],
      "execution_count": null,
      "outputs": [
        {
          "output_type": "stream",
          "text": [
            "Linear model on binary vectorized data:\n",
            "Model: \"sequential\"\n",
            "_________________________________________________________________\n",
            "Layer (type)                 Output Shape              Param #   \n",
            "=================================================================\n",
            "dense (Dense)                (None, 2)                 12952     \n",
            "=================================================================\n",
            "Total params: 12,952\n",
            "Trainable params: 12,952\n",
            "Non-trainable params: 0\n",
            "_________________________________________________________________\n",
            "None\n"
          ],
          "name": "stdout"
        }
      ]
    },
    {
      "cell_type": "code",
      "metadata": {
        "id": "P9BOeoCwborD",
        "colab": {
          "base_uri": "https://localhost:8080/"
        },
        "outputId": "df78437e-6f16-452e-cb26-5d819bbcc096"
      },
      "source": [
        "print(\"ConvNet model on int vectorized data:\")\n",
        "print(int_model.summary())"
      ],
      "execution_count": null,
      "outputs": [
        {
          "output_type": "stream",
          "text": [
            "ConvNet model on int vectorized data:\n",
            "Model: \"sequential_1\"\n",
            "_________________________________________________________________\n",
            "Layer (type)                 Output Shape              Param #   \n",
            "=================================================================\n",
            "embedding (Embedding)        (None, None, 64)          640064    \n",
            "_________________________________________________________________\n",
            "conv1d (Conv1D)              (None, None, 64)          20544     \n",
            "_________________________________________________________________\n",
            "global_max_pooling1d (Global (None, 64)                0         \n",
            "_________________________________________________________________\n",
            "dense_1 (Dense)              (None, 2)                 130       \n",
            "=================================================================\n",
            "Total params: 660,738\n",
            "Trainable params: 660,738\n",
            "Non-trainable params: 0\n",
            "_________________________________________________________________\n",
            "None\n"
          ],
          "name": "stdout"
        }
      ]
    },
    {
      "cell_type": "markdown",
      "metadata": {
        "id": "zYYW9tUdCtTy"
      },
      "source": [
        "Evaluate both models on the test data:"
      ]
    },
    {
      "cell_type": "code",
      "metadata": {
        "id": "5dTc4nZqf7fK",
        "colab": {
          "base_uri": "https://localhost:8080/"
        },
        "outputId": "111a238b-ab3b-40bf-f383-f32b040243be"
      },
      "source": [
        "binary_loss, binary_accuracy = binary_model.evaluate(binary_test_ds)\n",
        "int_loss, int_accuracy = int_model.evaluate(int_test_ds)\n",
        "\n",
        "print(\"Binary model accuracy: {:2.2%}\".format(binary_accuracy))\n",
        "print(\"Int model accuracy: {:2.2%}\".format(int_accuracy))"
      ],
      "execution_count": null,
      "outputs": [
        {
          "output_type": "stream",
          "text": [
            "15/15 [==============================] - 1s 7ms/step - loss: 0.0785 - accuracy: 0.9742\n",
            "15/15 [==============================] - 1s 10ms/step - loss: 0.0461 - accuracy: 0.9935\n",
            "Binary model accuracy: 97.42%\n",
            "Int model accuracy: 99.35%\n"
          ],
          "name": "stdout"
        }
      ]
    },
    {
      "cell_type": "markdown",
      "metadata": {
        "id": "F9dhj8Hey9DS"
      },
      "source": [
        "Note: This example dataset represents a rather simple classification problem. More complex datasets and problems bring out subtle but significant differences in preprocessing strategies and model architectures. Be sure to try out different hyperparameters and epochs to compare various approaches."
      ]
    },
    {
      "cell_type": "markdown",
      "metadata": {
        "id": "h9GaXTsIgP-3"
      },
      "source": [
        "### Export the model\n",
        "\n",
        "In the code above, you applied the `TextVectorization` layer to the dataset before feeding text to the model. If you want to make your model capable of processing raw strings (for example, to simplify deploying it), you can include the `TextVectorization` layer inside your model. To do so, you can create a new model using the weights you just trained."
      ]
    },
    {
      "cell_type": "code",
      "metadata": {
        "id": "_bRe3KX8gRCX",
        "colab": {
          "base_uri": "https://localhost:8080/"
        },
        "outputId": "c1f8609a-bf59-4c02-bdd9-933c00cd4c70"
      },
      "source": [
        "export_model = tf.keras.Sequential(\n",
        "    [binary_vectorize_layer, binary_model,\n",
        "     layers.Activation('ReLU')])\n",
        "\n",
        "export_model.compile(\n",
        "    loss=losses.SparseCategoricalCrossentropy(from_logits=False),\n",
        "    optimizer='adam',\n",
        "    metrics=['accuracy'])\n",
        "\n",
        "# Test it with `raw_test_ds`, which yields raw strings\n",
        "loss, accuracy = export_model.evaluate(raw_val_ds)\n",
        "print(\"Accuracy: {:2.2%}\".format(accuracy))"
      ],
      "execution_count": null,
      "outputs": [
        {
          "output_type": "stream",
          "text": [
            "14/14 [==============================] - 1s 17ms/step - loss: 0.2510 - accuracy: 0.9821\n",
            "Accuracy: 98.21%\n"
          ],
          "name": "stdout"
        }
      ]
    },
    {
      "cell_type": "markdown",
      "metadata": {
        "id": "m2eqTVBP4DUN"
      },
      "source": [
        "Now your model can take raw strings as input and predict a score for each label using `model.predict`. Define a function to find the label with the maximum score:"
      ]
    },
    {
      "cell_type": "code",
      "metadata": {
        "id": "GU53uRXz45iO"
      },
      "source": [
        "labels = ['abnormal', 'normal']\n",
        "def get_string_labels(predicted_scores_batch):\n",
        "  predicted_int_labels = tf.argmax(predicted_scores_batch, axis=1)\n",
        "  predicted_labels = []\n",
        "  for intlab in predicted_int_labels:\n",
        "    predicted_labels.append(labels[intlab.numpy()])\n",
        "  # predicted_labels = tf.gather(['raw_train_ds.class_names'], predicted_int_labels)\n",
        "  return predicted_labels"
      ],
      "execution_count": null,
      "outputs": []
    },
    {
      "cell_type": "code",
      "metadata": {
        "colab": {
          "base_uri": "https://localhost:8080/"
        },
        "id": "XD6CHt9BCRsG",
        "outputId": "214ef94e-b81b-4923-c3f4-ea3e558bb370"
      },
      "source": [
        "print(round(0.5454, 2))"
      ],
      "execution_count": null,
      "outputs": [
        {
          "output_type": "stream",
          "text": [
            "0.55\n"
          ],
          "name": "stdout"
        }
      ]
    },
    {
      "cell_type": "markdown",
      "metadata": {
        "id": "yqnWc7Nn5eou"
      },
      "source": [
        "### Run inference on new data"
      ]
    },
    {
      "cell_type": "markdown",
      "metadata": {
        "id": "1F-X2ymuDn_M"
      },
      "source": [
        "Now we can create a few custom inputs to explore the model's behaviour."
      ]
    },
    {
      "cell_type": "code",
      "metadata": {
        "id": "BOR2MupW1_zS",
        "colab": {
          "base_uri": "https://localhost:8080/"
        },
        "outputId": "4fe1303c-8104-4383-bfd9-bec4369b8307"
      },
      "source": [
        "inputs = [\n",
        "    \"This EEG is totally normal\",  # normal\n",
        "    \"This recording is markedly abnormal\",  # abnormal\n",
        "    \"This shows no abnormalities\",  # abnormal\n",
        "    \"Some ever so slight abnormalities, but then again, who can say what normal really means\",  # abnormal\n",
        "    \"They seem fine.\",  # normal?\n",
        "    \"They are fine.\", # normal\n",
        "    \"This person is fine.\",  # normal\n",
        "    \"This person is very unwell.\",  # abnormal\n",
        "    \"IMPRESSION: abnormal\", # abnormal\n",
        "    \"IMPRESSION: markedly abnormal\", # abnormal\n",
        "    \"IMPRESSION: This recording is markedly abnormal\", # abnormal\n",
        "    \"IMPRESSION: Outside of the range of normal\", # abnormal\n",
        "]\n",
        "predicted_scores = export_model.predict(inputs)\n",
        "print(predicted_scores)\n",
        "predicted_labels = get_string_labels(predicted_scores)\n",
        "for input, label, scores in zip(inputs, predicted_labels, predicted_scores):\n",
        "  print(\"-----------------------------------\")\n",
        "  print(\"Question: \", input)\n",
        "  print(\"Predicted label: \", label)\n",
        "  print(\"Confidence scores: abnormal vs normal\")\n",
        "  print(f\"        {round(scores[0], 2)} vs {round(scores[1], 2)}\")"
      ],
      "execution_count": null,
      "outputs": [
        {
          "output_type": "stream",
          "text": [
            "[[-1.7600393e-01  3.1118581e-01]\n",
            " [ 3.6772490e-01 -2.7536553e-01]\n",
            " [ 3.0246656e-04  1.1760336e-01]\n",
            " [-3.6635518e-02 -5.3300917e-02]\n",
            " [ 7.2386578e-02 -2.7701855e-03]\n",
            " [ 5.6419563e-02  1.5944829e-02]\n",
            " [ 6.2260274e-02  6.6979989e-02]\n",
            " [ 3.3484861e-02  4.2877514e-03]\n",
            " [ 2.2388773e-01 -2.0371127e-01]\n",
            " [ 2.8156894e-01 -2.6778537e-01]\n",
            " [ 3.5900766e-01 -2.7848703e-01]\n",
            " [-2.5846583e-01  3.1936619e-01]]\n",
            "-----------------------------------\n",
            "Question:  This EEG is totally normal\n",
            "Predicted label:  normal\n",
            "Confidence scores: abnormal vs normal\n",
            "        -0.18000000715255737 vs 0.3100000023841858\n",
            "-----------------------------------\n",
            "Question:  This recording is markedly abnormal\n",
            "Predicted label:  abnormal\n",
            "Confidence scores: abnormal vs normal\n",
            "        0.3700000047683716 vs -0.2800000011920929\n",
            "-----------------------------------\n",
            "Question:  This shows no abnormalities\n",
            "Predicted label:  normal\n",
            "Confidence scores: abnormal vs normal\n",
            "        0.0 vs 0.11999999731779099\n",
            "-----------------------------------\n",
            "Question:  Some ever so slight abnormalities, but then again, who can say what normal really means\n",
            "Predicted label:  abnormal\n",
            "Confidence scores: abnormal vs normal\n",
            "        -0.03999999910593033 vs -0.05000000074505806\n",
            "-----------------------------------\n",
            "Question:  They seem fine.\n",
            "Predicted label:  abnormal\n",
            "Confidence scores: abnormal vs normal\n",
            "        0.07000000029802322 vs -0.0\n",
            "-----------------------------------\n",
            "Question:  They are fine.\n",
            "Predicted label:  abnormal\n",
            "Confidence scores: abnormal vs normal\n",
            "        0.05999999865889549 vs 0.019999999552965164\n",
            "-----------------------------------\n",
            "Question:  This person is fine.\n",
            "Predicted label:  normal\n",
            "Confidence scores: abnormal vs normal\n",
            "        0.05999999865889549 vs 0.07000000029802322\n",
            "-----------------------------------\n",
            "Question:  This person is very unwell.\n",
            "Predicted label:  abnormal\n",
            "Confidence scores: abnormal vs normal\n",
            "        0.029999999329447746 vs 0.0\n",
            "-----------------------------------\n",
            "Question:  IMPRESSION: abnormal\n",
            "Predicted label:  abnormal\n",
            "Confidence scores: abnormal vs normal\n",
            "        0.2199999988079071 vs -0.20000000298023224\n",
            "-----------------------------------\n",
            "Question:  IMPRESSION: markedly abnormal\n",
            "Predicted label:  abnormal\n",
            "Confidence scores: abnormal vs normal\n",
            "        0.2800000011920929 vs -0.27000001072883606\n",
            "-----------------------------------\n",
            "Question:  IMPRESSION: This recording is markedly abnormal\n",
            "Predicted label:  abnormal\n",
            "Confidence scores: abnormal vs normal\n",
            "        0.36000001430511475 vs -0.2800000011920929\n",
            "-----------------------------------\n",
            "Question:  IMPRESSION: Outside of the range of normal\n",
            "Predicted label:  normal\n",
            "Confidence scores: abnormal vs normal\n",
            "        -0.25999999046325684 vs 0.3199999928474426\n"
          ],
          "name": "stdout"
        }
      ]
    },
    {
      "cell_type": "markdown",
      "metadata": {
        "id": "0QDVfii_4slI"
      },
      "source": [
        "Including the text preprocessing logic inside your model enables you to export a model for production that simplifies deployment, and reduces the potential for [train/test skew](https://developers.google.com/machine-learning/guides/rules-of-ml#training-serving_skew).\n",
        "\n",
        "There is a performance difference to keep in mind when choosing where to apply your `TextVectorization` layer. Using it outside of your model enables you to do asynchronous CPU processing and buffering of your data when training on GPU. So, if you're training your model on the GPU, you probably want to go with this option to get the best performance while developing your model, then switch to including the TextVectorization layer inside your model when you're ready to prepare for deployment.\n",
        "\n",
        "Visit this [tutorial](https://www.tensorflow.org/tutorials/keras/save_and_load) to learn more about saving models."
      ]
    }
  ]
}